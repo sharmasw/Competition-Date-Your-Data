{
 "cells": [
  {
   "cell_type": "code",
   "execution_count": 1,
   "metadata": {
    "collapsed": true
   },
   "outputs": [],
   "source": [
    "path='D:/Project Data/Date your data/'\n",
    "import pandas as pd\n",
    "import numpy as np\n",
    "import scipy as sp\n",
    "import matplotlib.pyplot as plt\n",
    "import seaborn as sns\n",
    "import random\n",
    "%matplotlib inline"
   ]
  },
  {
   "cell_type": "code",
   "execution_count": 2,
   "metadata": {
    "collapsed": false
   },
   "outputs": [
    {
     "name": "stdout",
     "output_type": "stream",
     "text": [
      "(192582, 8) (107428, 7) (151191, 19) (6899, 286)\n"
     ]
    }
   ],
   "source": [
    "train=pd.read_csv(path+'train.csv')\n",
    "test=pd.read_csv(path+'test.csv')\n",
    "student1=pd.read_csv(path+'Student.csv')\n",
    "internship=pd.read_csv(path+'Internship.csv')\n",
    "print(train.shape,test.shape,student1.shape,internship.shape)\n",
    "student1['Location']=student1['Location'].fillna('9999')"
   ]
  },
  {
   "cell_type": "code",
   "execution_count": 3,
   "metadata": {
    "collapsed": false
   },
   "outputs": [],
   "source": [
    "rrr=np.unique(train['Internship_ID'],return_counts=True)\n",
    "interncount=pd.DataFrame(data={'Internship_ID':rrr[0].tolist(),'NoofApp':rrr[1].tolist()})"
   ]
  },
  {
   "cell_type": "code",
   "execution_count": 4,
   "metadata": {
    "collapsed": false
   },
   "outputs": [],
   "source": [
    "Exp_type={'job':3,'internship':3,np.NaN:0,'academic_project':2,'workshop':1,'award':2,'participation':1,'training':1,\n",
    "'por':1,'other':1}\n",
    "\n",
    "\n",
    "def Exp(x):\n",
    "    return(Exp_type[x]) \n",
    "\n",
    "student1['Experience_Type']=student1['Experience_Type'].apply(Exp)"
   ]
  },
  {
   "cell_type": "code",
   "execution_count": 5,
   "metadata": {
    "collapsed": false
   },
   "outputs": [
    {
     "data": {
      "text/plain": [
       "Index(['Student_ID', 'Institute_Category', 'Institute_location', 'hometown', 'Degree', 'Stream', 'Current_year', 'Year_of_graduation', 'Performance_PG', 'PG_scale', 'Performance_UG', 'UG_Scale', 'Performance_12th', 'Performance_10th', 'Experience_Type', 'Profile', 'Location', 'Start Date', 'End Date'], dtype='object')"
      ]
     },
     "execution_count": 5,
     "metadata": {},
     "output_type": "execute_result"
    }
   ],
   "source": [
    "student1.columns"
   ]
  },
  {
   "cell_type": "code",
   "execution_count": 6,
   "metadata": {
    "collapsed": false
   },
   "outputs": [],
   "source": [
    "location=[]\n",
    "homelocation=[]\n",
    "Institute_location=[]\n",
    "for i in np.unique(student1['Student_ID']).tolist():\n",
    "    lll=student1[student1['Student_ID']==i]\n",
    "    kkk=np.unique(lll['Location']).tolist()\n",
    "    yyy=np.unique(lll['hometown']).tolist()\n",
    "    uuu=np.unique(lll['Institute_location']).tolist()\n",
    "    location.append(kkk)\n",
    "    homelocation.append(yyy)\n",
    "    Institute_location.append(uuu)"
   ]
  },
  {
   "cell_type": "code",
   "execution_count": 7,
   "metadata": {
    "collapsed": false
   },
   "outputs": [
    {
     "data": {
      "text/plain": [
       "(72621, 72621, 72621)"
      ]
     },
     "execution_count": 7,
     "metadata": {},
     "output_type": "execute_result"
    }
   ],
   "source": [
    "len(location),len(homelocation),len(Institute_location)"
   ]
  },
  {
   "cell_type": "code",
   "execution_count": 8,
   "metadata": {
    "collapsed": true
   },
   "outputs": [],
   "source": [
    "fullset=[]\n",
    "for i in range(0,len(location)):\n",
    "    z=location[i]+homelocation[i]+Institute_location[i]\n",
    "    fullset.append(z)"
   ]
  },
  {
   "cell_type": "code",
   "execution_count": 9,
   "metadata": {
    "collapsed": true
   },
   "outputs": [],
   "source": [
    "columns=['Student_ID', 'Institute_Category', 'Institute_location', 'hometown', 'Degree', 'Stream', \n",
    "         'Current_year', 'Year_of_graduation', 'Performance_PG', 'PG_scale', 'Performance_UG', 'UG_Scale',\n",
    "         'Performance_12th', 'Performance_10th'\n",
    "        ]"
   ]
  },
  {
   "cell_type": "code",
   "execution_count": 10,
   "metadata": {
    "collapsed": false
   },
   "outputs": [],
   "source": [
    "student=student1[columns]\n",
    "student=student.drop_duplicates()"
   ]
  },
  {
   "cell_type": "code",
   "execution_count": 11,
   "metadata": {
    "collapsed": false
   },
   "outputs": [
    {
     "data": {
      "text/plain": [
       "1"
      ]
     },
     "execution_count": 11,
     "metadata": {},
     "output_type": "execute_result"
    }
   ],
   "source": [
    "max(np.unique(student['Student_ID'],return_counts=True)[1])"
   ]
  },
  {
   "cell_type": "code",
   "execution_count": 12,
   "metadata": {
    "collapsed": true
   },
   "outputs": [],
   "source": [
    "Exp_ty=[]\n",
    "for i in np.unique(student1['Student_ID']).tolist():\n",
    "    lll=student1[student1['Student_ID']==i]\n",
    "    Exp_ty.append((lll['Experience_Type'].tolist()))"
   ]
  },
  {
   "cell_type": "code",
   "execution_count": 13,
   "metadata": {
    "collapsed": false
   },
   "outputs": [
    {
     "data": {
      "text/plain": [
       "(72621, 14)"
      ]
     },
     "execution_count": 13,
     "metadata": {},
     "output_type": "execute_result"
    }
   ],
   "source": [
    "student.shape"
   ]
  },
  {
   "cell_type": "code",
   "execution_count": 14,
   "metadata": {
    "collapsed": false
   },
   "outputs": [],
   "source": [
    "student['Experience_Type'] =[i for i in Exp_ty]"
   ]
  },
  {
   "cell_type": "code",
   "execution_count": 15,
   "metadata": {
    "collapsed": false
   },
   "outputs": [],
   "source": [
    "def typ0(large):\n",
    "    if 0 in large['Experience_Type']:\n",
    "        return 1\n",
    "    else:\n",
    "        return 0\n",
    "    \n",
    "def typ1(large):\n",
    "    if 1 in large['Experience_Type']:\n",
    "        return 1\n",
    "    else:\n",
    "        return 0\n",
    "    \n",
    "def typ2(large):\n",
    "    if 2 in large['Experience_Type']:\n",
    "        return 1\n",
    "    else:\n",
    "        return 0\n",
    "    \n",
    "def typ3(large):\n",
    "    if 3 in large['Experience_Type']:\n",
    "        return 1\n",
    "    else:\n",
    "        return 0"
   ]
  },
  {
   "cell_type": "code",
   "execution_count": 16,
   "metadata": {
    "collapsed": true
   },
   "outputs": [],
   "source": [
    "student['Exp_type_0']=student.apply(typ0,axis=1)\n",
    "student['Exp_type_1']=student.apply(typ1,axis=1)\n",
    "student['Exp_type_2']=student.apply(typ2,axis=1)\n",
    "student['Exp_type_3']=student.apply(typ3,axis=1)"
   ]
  },
  {
   "cell_type": "code",
   "execution_count": 17,
   "metadata": {
    "collapsed": true
   },
   "outputs": [],
   "source": [
    "user=np.unique(student1['Student_ID']).tolist()\n",
    "loc_dict={}\n",
    "for i,location in zip(user,fullset):\n",
    "    loc_dict[i]=location\n",
    "    \n",
    "def Loc(x):\n",
    "    return(loc_dict[x]) \n",
    "\n",
    "student['Location_all']=student['Student_ID'].apply(Loc)"
   ]
  },
  {
   "cell_type": "code",
   "execution_count": 18,
   "metadata": {
    "collapsed": true
   },
   "outputs": [],
   "source": [
    "large=pd.merge(pd.merge(pd.merge(train,student,how='left', on='Student_ID'),internship,how='left', on='Internship_ID'),\n",
    "    interncount,how='left', on='Internship_ID')"
   ]
  },
  {
   "cell_type": "code",
   "execution_count": 19,
   "metadata": {
    "collapsed": false
   },
   "outputs": [],
   "source": [
    "cols=['Internship_ID', 'Student_ID', 'Earliest_Start_Date', 'Expected_Stipend',\n",
    " 'Minimum_Duration', 'Preferred_location',\n",
    " 'Is_Part_Time', 'Is_Shortlisted', 'Institute_Category', 'Institute_location',\n",
    " 'hometown', 'Degree', 'Stream','Current_year',\n",
    " 'Year_of_graduation', 'Performance_PG', 'PG_scale', 'Performance_UG',\n",
    " 'UG_Scale', 'Performance_12th', 'Performance_10th', 'Experience_Type',\n",
    " 'Location_all', 'Exp_type_0', 'Exp_type_1', 'Exp_type_2',\n",
    " 'Exp_type_3', 'Internship_Profile', 'Skills_required', 'Internship_Type',\n",
    " 'Internship_Location', 'Internship_category',\n",
    " 'No_of_openings', 'Stipend_Type', 'Stipend1', 'Stipend2',\n",
    " 'Internship_deadline', 'Start_Date', 'Internship_Duration(Months)','NoofApp','Experience_Type'\n",
    " ]"
   ]
  },
  {
   "cell_type": "code",
   "execution_count": 20,
   "metadata": {
    "collapsed": false
   },
   "outputs": [],
   "source": [
    "large=large[cols]"
   ]
  },
  {
   "cell_type": "code",
   "execution_count": 21,
   "metadata": {
    "collapsed": false
   },
   "outputs": [
    {
     "data": {
      "text/plain": [
       "(192582, 40)"
      ]
     },
     "execution_count": 21,
     "metadata": {},
     "output_type": "execute_result"
    }
   ],
   "source": [
    "large.shape"
   ]
  },
  {
   "cell_type": "code",
   "execution_count": 22,
   "metadata": {
    "collapsed": true
   },
   "outputs": [],
   "source": [
    "need_treat=['Preferred_location','Degree', 'Stream','Year_of_graduation','Internship_Profile', 'Skills_required']"
   ]
  },
  {
   "cell_type": "code",
   "execution_count": 23,
   "metadata": {
    "collapsed": false,
    "scrolled": true
   },
   "outputs": [],
   "source": [
    "large['Earliest_Start_Date']=pd.to_datetime(large['Earliest_Start_Date'],format=\"%d-%m-%Y\")\n",
    "large['Start_Date']=pd.to_datetime(large['Start_Date'],format=\"%d-%m-%Y\")\n",
    "\n",
    "large['joining_gap']=large['Earliest_Start_Date']-large['Start_Date']\n",
    "large['joining_gap']=large['joining_gap'].dt.days\n",
    "large['joining_gap']=large['joining_gap']**2\n",
    "\n",
    "\n",
    "large['PG_score']=large['Performance_PG']/large['PG_scale']\n",
    "large['UG_score']=large['Performance_UG']/large['UG_Scale']"
   ]
  },
  {
   "cell_type": "code",
   "execution_count": 24,
   "metadata": {
    "collapsed": false
   },
   "outputs": [],
   "source": [
    "def edu(data):\n",
    "    if data['PG_score'] ==0:\n",
    "        return 0\n",
    "    else:\n",
    "        return 1\n",
    "\n",
    "large['Edu_level']= large.apply(edu, axis=1)\n"
   ]
  },
  {
   "cell_type": "code",
   "execution_count": 25,
   "metadata": {
    "collapsed": false
   },
   "outputs": [],
   "source": [
    "large['Stipend']=large[['Stipend1','Stipend2']].max(axis=1)\n",
    "\n",
    "def stipend(data):\n",
    "    if data['Stipend'] ==0:\n",
    "        return 'No Stipend'\n",
    "    elif data['Stipend'] <=5000:\n",
    "        return '0-5K' \n",
    "    elif data['Stipend'] <=10000:\n",
    "        return '5-10K'\n",
    "    else:\n",
    "        return '10k+'\n",
    "\n",
    "large['Stipend_gi'] = large.apply(stipend, axis=1)"
   ]
  },
  {
   "cell_type": "code",
   "execution_count": 26,
   "metadata": {
    "collapsed": true
   },
   "outputs": [],
   "source": [
    "for_dummy=['Expected_Stipend','Institute_Category','Current_year', 'Internship_Type','Internship_category',\n",
    "           'Stipend_Type','Stipend_gi']\n",
    "for i in for_dummy:\n",
    "    new=pd.get_dummies(large[i],prefix=i, prefix_sep='_')\n",
    "    large=pd.concat((large,new),axis=1)\n"
   ]
  },
  {
   "cell_type": "code",
   "execution_count": 27,
   "metadata": {
    "collapsed": false
   },
   "outputs": [],
   "source": [
    "def loc(large):\n",
    "    if large['Preferred_location'] in large['Location_all']:\n",
    "        return 1\n",
    "    else:\n",
    "        return 0\n",
    "\n",
    "large['Pref_location_Ok'] = large.apply(loc, axis=1)\n",
    "\n",
    "def loc2(large):\n",
    "    if large['Internship_Location'] in large['Location_all']:\n",
    "        return 1\n",
    "    else:\n",
    "        return 0\n",
    "\n",
    "large['Intern_location_Ok'] = large.apply(loc2, axis=1)\n",
    "\n",
    "large['location_combine']=large[['Intern_location_Ok','Pref_location_Ok']].max(axis=1)"
   ]
  },
  {
   "cell_type": "code",
   "execution_count": 28,
   "metadata": {
    "collapsed": false
   },
   "outputs": [
    {
     "data": {
      "text/plain": [
       "Index(['Internship_ID', 'Student_ID', 'Earliest_Start_Date', 'Expected_Stipend', 'Minimum_Duration', 'Preferred_location', 'Is_Part_Time', 'Is_Shortlisted', 'Institute_Category', 'Institute_location', 'hometown', 'Degree', 'Stream', 'Current_year', 'Year_of_graduation', 'Performance_PG', 'PG_scale', 'Performance_UG', 'UG_Scale', 'Performance_12th', 'Performance_10th', 'Experience_Type', 'Location_all', 'Exp_type_0', 'Exp_type_1', 'Exp_type_2', 'Exp_type_3', 'Internship_Profile', 'Skills_required', 'Internship_Type', 'Internship_Location', 'Internship_category', 'No_of_openings', 'Stipend_Type', 'Stipend1', 'Stipend2', 'Internship_deadline', 'Start_Date', 'Internship_Duration(Months)', 'NoofApp', 'joining_gap', 'PG_score', 'UG_score', 'Edu_level', 'Stipend', 'Stipend_gi', 'Expected_Stipend_10K+', 'Expected_Stipend_2-5K', 'Expected_Stipend_5-10K', 'Expected_Stipend_No Expectations', 'Institute_Category_N', 'Institute_Category_Y', 'Current_year_1', 'Current_year_2', 'Current_year_3', 'Current_year_4', 'Current_year_5', 'Current_year_already a graduate', 'Internship_Type_regular', 'Internship_Type_virtual', 'Internship_category_Full Time', 'Internship_category_Part time', 'Stipend_Type_fixed', 'Stipend_Type_performance', 'Stipend_Type_unpaid', 'Stipend_Type_variable', 'Stipend_gi_0-5K', 'Stipend_gi_10k+', 'Stipend_gi_5-10K', 'Pref_location_Ok', 'Intern_location_Ok', 'location_combine'], dtype='object')"
      ]
     },
     "execution_count": 28,
     "metadata": {},
     "output_type": "execute_result"
    }
   ],
   "source": [
    "large.columns"
   ]
  },
  {
   "cell_type": "code",
   "execution_count": 29,
   "metadata": {
    "collapsed": true
   },
   "outputs": [],
   "source": [
    "columnstouse=['Internship_ID', 'Student_ID','Expected_Stipend_10K+', 'Expected_Stipend_2-5K', 'Expected_Stipend_5-10K',\n",
    "              'Minimum_Duration','Is_Part_Time', 'Is_Shortlisted','Institute_Category_Y',\n",
    "             'Current_year_2', 'Current_year_3', 'Current_year_4', 'Current_year_5', 'Current_year_already a graduate',\n",
    "              'Year_of_graduation','Exp_type_0', 'Exp_type_1', 'Exp_type_2', 'Exp_type_3',\n",
    "             'PG_score', 'UG_score','Performance_12th', 'Performance_10th','Internship_Type_regular',\n",
    "              'Internship_category_Full Time','No_of_openings',\n",
    "             'Stipend_Type_fixed', 'Stipend_Type_performance', 'Stipend_Type_variable',\n",
    "             'Stipend_gi_10k+', 'Stipend_gi_5-10K','Internship_Duration(Months)', 'joining_gap',\n",
    "             'Pref_location_Ok', 'Intern_location_Ok','location_combine' ,'Edu_level','NoofApp','Experience_Type']"
   ]
  },
  {
   "cell_type": "code",
   "execution_count": 30,
   "metadata": {
    "collapsed": false,
    "scrolled": true
   },
   "outputs": [],
   "source": [
    "large=large[columnstouse]"
   ]
  },
  {
   "cell_type": "code",
   "execution_count": 31,
   "metadata": {
    "collapsed": false
   },
   "outputs": [
    {
     "data": {
      "text/plain": [
       "(192582, 38)"
      ]
     },
     "execution_count": 31,
     "metadata": {},
     "output_type": "execute_result"
    }
   ],
   "source": [
    "large.shape"
   ]
  },
  {
   "cell_type": "code",
   "execution_count": 32,
   "metadata": {
    "collapsed": false
   },
   "outputs": [
    {
     "data": {
      "text/plain": [
       "((24579, 38), (168003, 38))"
      ]
     },
     "execution_count": 32,
     "metadata": {},
     "output_type": "execute_result"
    }
   ],
   "source": [
    "shortlisted=large[large['Is_Shortlisted']==1]\n",
    "sorry=large[large['Is_Shortlisted']==0]\n",
    "shortlisted.shape,sorry.shape"
   ]
  },
  {
   "cell_type": "code",
   "execution_count": 33,
   "metadata": {
    "collapsed": false
   },
   "outputs": [],
   "source": [
    "rows=random.sample(sorry.index.tolist(),40000)\n",
    "sorry=sorry.ix[rows]"
   ]
  },
  {
   "cell_type": "code",
   "execution_count": 34,
   "metadata": {
    "collapsed": true
   },
   "outputs": [],
   "source": [
    "large_short=pd.concat([shortlisted,sorry])"
   ]
  },
  {
   "cell_type": "code",
   "execution_count": 35,
   "metadata": {
    "collapsed": false
   },
   "outputs": [
    {
     "data": {
      "text/plain": [
       "(64579, 38)"
      ]
     },
     "execution_count": 35,
     "metadata": {},
     "output_type": "execute_result"
    }
   ],
   "source": [
    "large_short.shape"
   ]
  },
  {
   "cell_type": "code",
   "execution_count": null,
   "metadata": {
    "collapsed": false
   },
   "outputs": [],
   "source": []
  },
  {
   "cell_type": "code",
   "execution_count": 36,
   "metadata": {
    "collapsed": true
   },
   "outputs": [],
   "source": [
    "X=['Expected_Stipend_10K+', 'Expected_Stipend_2-5K', 'Expected_Stipend_5-10K',\n",
    "              'Minimum_Duration','Is_Part_Time','Institute_Category_Y',\n",
    "             'Current_year_2', 'Current_year_3', 'Current_year_4', 'Current_year_5', 'Current_year_already a graduate',\n",
    "              'Year_of_graduation','Exp_type_0', 'Exp_type_1', 'Exp_type_2', 'Exp_type_3',\n",
    "             'PG_score', 'UG_score','Performance_12th', 'Performance_10th','Internship_Type_regular',\n",
    "              'Internship_category_Full Time','No_of_openings','NoofApp','Experience_Type',\n",
    "             'Stipend_Type_fixed', 'Stipend_Type_performance', 'Stipend_Type_variable',\n",
    "             'Stipend_gi_10k+', 'Stipend_gi_5-10K','Internship_Duration(Months)', 'joining_gap',\n",
    "             'Pref_location_Ok', 'Intern_location_Ok','location_combine' ,'Edu_level']\n",
    "Y=['Is_Shortlisted']"
   ]
  },
  {
   "cell_type": "code",
   "execution_count": 37,
   "metadata": {
    "collapsed": false
   },
   "outputs": [
    {
     "data": {
      "text/plain": [
       "35"
      ]
     },
     "execution_count": 37,
     "metadata": {},
     "output_type": "execute_result"
    }
   ],
   "source": [
    "len(X)"
   ]
  },
  {
   "cell_type": "code",
   "execution_count": 38,
   "metadata": {
    "collapsed": true
   },
   "outputs": [],
   "source": [
    "from sklearn.cross_validation import train_test_split\n",
    "import sklearn.metrics as metrics \n",
    "import sklearn.ensemble as ensemble"
   ]
  },
  {
   "cell_type": "code",
   "execution_count": 39,
   "metadata": {
    "collapsed": false
   },
   "outputs": [
    {
     "name": "stdout",
     "output_type": "stream",
     "text": [
      "******************************************************************************************\n",
      "Train X:  (42622, 35) Test X:  (21957, 35) Train Y:  (42622, 1) Test Y:  (21957, 1)\n",
      "******************************************************************************************\n"
     ]
    }
   ],
   "source": [
    "X_train, X_test, y_train, y_test = train_test_split(large_short[X], large_short[Y], test_size=0.34, random_state=42)\n",
    "\n",
    "print('*'*90)\n",
    "print('Train X: ',X_train.shape,'Test X: ', X_test.shape,'Train Y: ', y_train.shape,'Test Y: ', y_test.shape)\n",
    "print('*'*90)"
   ]
  },
  {
   "cell_type": "code",
   "execution_count": 40,
   "metadata": {
    "collapsed": false
   },
   "outputs": [
    {
     "name": "stderr",
     "output_type": "stream",
     "text": [
      "C:\\Anaconda3\\lib\\site-packages\\IPython\\kernel\\__main__.py:2: DataConversionWarning: A column-vector y was passed when a 1d array was expected. Please change the shape of y to (n_samples,), for example using ravel().\n",
      "  from IPython.kernel.zmq import kernelapp as app\n"
     ]
    },
    {
     "data": {
      "text/plain": [
       "RandomForestClassifier(bootstrap=True, class_weight=None, criterion='gini',\n",
       "            max_depth=None, max_features='auto', max_leaf_nodes=None,\n",
       "            min_samples_leaf=1, min_samples_split=2,\n",
       "            min_weight_fraction_leaf=0.0, n_estimators=100, n_jobs=1,\n",
       "            oob_score=False, random_state=None, verbose=0,\n",
       "            warm_start=False)"
      ]
     },
     "execution_count": 40,
     "metadata": {},
     "output_type": "execute_result"
    }
   ],
   "source": [
    "Model1=ensemble.RandomForestClassifier(n_estimators=100)\n",
    "Model1.fit(X_train,y_train)"
   ]
  },
  {
   "cell_type": "code",
   "execution_count": 41,
   "metadata": {
    "collapsed": false
   },
   "outputs": [
    {
     "name": "stdout",
     "output_type": "stream",
     "text": [
      "******************************************************************************************\n",
      "Precited (array([0, 1], dtype=int64), array([16276,  5681], dtype=int64))\n",
      "******************************************************************************************\n",
      "Actual (array([0, 1], dtype=int64), array([13664,  8293], dtype=int64))\n",
      "******************************************************************************************\n",
      "Confusion matrix [[11989  1675]\n",
      " [ 4287  4006]]\n",
      "******************************************************************************************\n",
      "Accuracy 0.728469280867\n",
      "******************************************************************************************\n",
      "AUC 0.455\n"
     ]
    }
   ],
   "source": [
    "prediction=Model1.predict(X_test)\n",
    "print('*'*90)\n",
    "print('Precited',np.unique(prediction,return_counts=True))\n",
    "print('*'*90)\n",
    "print('Actual',np.unique(y_test,return_counts=True))\n",
    "print('*'*90)\n",
    "print('Confusion matrix',\n",
    "      metrics.confusion_matrix(y_test,prediction))\n",
    "print('*'*90)\n",
    "\n",
    "print('Accuracy',metrics.accuracy_score(y_test,prediction))\n",
    "print('*'*90)\n",
    "\n",
    "prediction=Model1.predict_proba(X_test)\n",
    "print('AUC',metrics.auc(y_test,prediction[:,1],reorder=True))"
   ]
  },
  {
   "cell_type": "code",
   "execution_count": 42,
   "metadata": {
    "collapsed": false
   },
   "outputs": [
    {
     "data": {
      "image/png": "[encoded data removed]",
      "text/plain": [
       "<matplotlib.figure.Figure at 0x10e15a90>"
      ]
     },
     "metadata": {},
     "output_type": "display_data"
    }
   ],
   "source": [
    "from scipy import interp\n",
    "mean_fpr = np.linspace(0, 1, 100)\n",
    "fpr, tpr, thresholds = metrics.roc_curve(y_test,prediction[:,1])\n",
    "mean_tpr = interp(mean_fpr, fpr, tpr)\n",
    "mean_tpr[0] = 0.0\n",
    "roc_auc = metrics.auc(fpr, tpr)\n",
    "\n",
    "\n",
    "plt.plot([0, 1], [0, 1], '--', color=(0.6, 0.6, 0.6), label='Luck')\n",
    "\n",
    "mean_tpr[-1] = 1.0\n",
    "mean_auc = metrics.auc(mean_fpr, mean_tpr)\n",
    "plt.plot(mean_fpr, mean_tpr, 'k--',\n",
    "         label='Mean ROC (area = %0.2f)' % mean_auc, lw=2)\n",
    "\n",
    "plt.xlim([-0.05, 1.05])\n",
    "plt.ylim([-0.05, 1.05])\n",
    "plt.xlabel('False Positive Rate')\n",
    "plt.ylabel('True Positive Rate')\n",
    "plt.title('Receiver operating characteristic example')\n",
    "plt.legend(loc=\"lower right\")\n",
    "plt.show()"
   ]
  },
  {
   "cell_type": "markdown",
   "metadata": {},
   "source": [
    "# test data Prep"
   ]
  },
  {
   "cell_type": "code",
   "execution_count": null,
   "metadata": {
    "collapsed": true
   },
   "outputs": [],
   "source": []
  },
  {
   "cell_type": "code",
   "execution_count": 43,
   "metadata": {
    "collapsed": false
   },
   "outputs": [
    {
     "data": {
      "text/plain": [
       "(107428, 7)"
      ]
     },
     "execution_count": 43,
     "metadata": {},
     "output_type": "execute_result"
    }
   ],
   "source": [
    "test.shape"
   ]
  },
  {
   "cell_type": "code",
   "execution_count": 44,
   "metadata": {
    "collapsed": false
   },
   "outputs": [],
   "source": [
    "rrr=np.unique(test['Internship_ID'],return_counts=True)\n",
    "interncount1=pd.DataFrame(data={'Internship_ID':rrr[0].tolist(),'NoofApp':rrr[1].tolist()})"
   ]
  },
  {
   "cell_type": "code",
   "execution_count": 45,
   "metadata": {
    "collapsed": false
   },
   "outputs": [],
   "source": [
    "testdata=pd.merge(pd.merge(pd.merge(test,student,how='left', on='Student_ID'),internship,how='left', on='Internship_ID'),\n",
    "                  interncount1,how='left', on='Internship_ID')"
   ]
  },
  {
   "cell_type": "code",
   "execution_count": 46,
   "metadata": {
    "collapsed": false
   },
   "outputs": [
    {
     "data": {
      "text/plain": [
       "(107428, 312)"
      ]
     },
     "execution_count": 46,
     "metadata": {},
     "output_type": "execute_result"
    }
   ],
   "source": [
    "testdata.shape"
   ]
  },
  {
   "cell_type": "code",
   "execution_count": 47,
   "metadata": {
    "collapsed": false
   },
   "outputs": [],
   "source": [
    "testdata['Earliest_Start_Date']=pd.to_datetime(testdata['Earliest_Start_Date'],format=\"%d-%m-%Y\")\n",
    "testdata['Start_Date']=pd.to_datetime(testdata['Start_Date'],format=\"%d-%m-%Y\")\n",
    "\n",
    "testdata['joining_gap']=testdata['Earliest_Start_Date']-testdata['Start_Date']\n",
    "testdata['joining_gap']=testdata['joining_gap'].dt.days\n",
    "testdata['joining_gap']=testdata['joining_gap']**2\n",
    "\n",
    "\n",
    "testdata['PG_score']=testdata['Performance_PG']/testdata['PG_scale']\n",
    "testdata['UG_score']=testdata['Performance_UG']/testdata['UG_Scale']"
   ]
  },
  {
   "cell_type": "code",
   "execution_count": 48,
   "metadata": {
    "collapsed": true
   },
   "outputs": [],
   "source": [
    "testdata['Edu_level']= testdata.apply(edu, axis=1)"
   ]
  },
  {
   "cell_type": "code",
   "execution_count": 49,
   "metadata": {
    "collapsed": true
   },
   "outputs": [],
   "source": [
    "testdata['Stipend']=testdata[['Stipend1','Stipend2']].max(axis=1)\n",
    "\n",
    "testdata['Stipend_gi'] = testdata.apply(stipend, axis=1)"
   ]
  },
  {
   "cell_type": "code",
   "execution_count": 50,
   "metadata": {
    "collapsed": true
   },
   "outputs": [],
   "source": [
    "for i in for_dummy:\n",
    "    new=pd.get_dummies(testdata[i],prefix=i, prefix_sep='_')\n",
    "    testdata=pd.concat((testdata,new),axis=1)\n"
   ]
  },
  {
   "cell_type": "code",
   "execution_count": 51,
   "metadata": {
    "collapsed": true
   },
   "outputs": [],
   "source": [
    "\n",
    "testdata['Pref_location_Ok'] = testdata.apply(loc, axis=1)\n",
    "\n",
    "testdata['Intern_location_Ok'] = testdata.apply(loc2, axis=1)\n",
    "\n",
    "testdata['location_combine']=testdata[['Intern_location_Ok','Pref_location_Ok']].max(axis=1)"
   ]
  },
  {
   "cell_type": "code",
   "execution_count": 52,
   "metadata": {
    "collapsed": true
   },
   "outputs": [],
   "source": [
    "testdata1=testdata[X]"
   ]
  },
  {
   "cell_type": "code",
   "execution_count": 53,
   "metadata": {
    "collapsed": false
   },
   "outputs": [
    {
     "data": {
      "text/plain": [
       "Index(['Expected_Stipend_10K+', 'Expected_Stipend_2-5K', 'Expected_Stipend_5-10K', 'Minimum_Duration', 'Is_Part_Time', 'Institute_Category_Y', 'Current_year_2', 'Current_year_3', 'Current_year_4', 'Current_year_5', 'Current_year_already a graduate', 'Year_of_graduation', 'Exp_type_0', 'Exp_type_1', 'Exp_type_2', 'Exp_type_3', 'PG_score', 'UG_score', 'Performance_12th', 'Performance_10th', 'Internship_Type_regular', 'Internship_category_Full Time', 'No_of_openings', 'NoofApp', 'Stipend_Type_fixed', 'Stipend_Type_performance', 'Stipend_Type_variable', 'Stipend_gi_10k+', 'Stipend_gi_5-10K', 'Internship_Duration(Months)', 'joining_gap', 'Pref_location_Ok', 'Intern_location_Ok', 'location_combine', 'Edu_level'], dtype='object')"
      ]
     },
     "execution_count": 53,
     "metadata": {},
     "output_type": "execute_result"
    }
   ],
   "source": [
    "testdata1.columns"
   ]
  },
  {
   "cell_type": "code",
   "execution_count": 54,
   "metadata": {
    "collapsed": false
   },
   "outputs": [
    {
     "data": {
      "text/plain": [
       "(107428, 35)"
      ]
     },
     "execution_count": 54,
     "metadata": {},
     "output_type": "execute_result"
    }
   ],
   "source": [
    "testdata1.shape"
   ]
  },
  {
   "cell_type": "code",
   "execution_count": 55,
   "metadata": {
    "collapsed": true
   },
   "outputs": [],
   "source": [
    "prediction_f=Model1.predict_proba(testdata1)"
   ]
  },
  {
   "cell_type": "code",
   "execution_count": 56,
   "metadata": {
    "collapsed": false
   },
   "outputs": [
    {
     "data": {
      "text/plain": [
       "107428"
      ]
     },
     "execution_count": 56,
     "metadata": {},
     "output_type": "execute_result"
    }
   ],
   "source": [
    "len(prediction_f)"
   ]
  },
  {
   "cell_type": "code",
   "execution_count": 57,
   "metadata": {
    "collapsed": false
   },
   "outputs": [
    {
     "name": "stderr",
     "output_type": "stream",
     "text": [
      "C:\\Anaconda3\\lib\\site-packages\\IPython\\kernel\\__main__.py:2: SettingWithCopyWarning: \n",
      "A value is trying to be set on a copy of a slice from a DataFrame.\n",
      "Try using .loc[row_indexer,col_indexer] = value instead\n",
      "\n",
      "See the the caveats in the documentation: http://pandas.pydata.org/pandas-docs/stable/indexing.html#indexing-view-versus-copy\n",
      "  from IPython.kernel.zmq import kernelapp as app\n"
     ]
    }
   ],
   "source": [
    "submission=testdata[['Internship_ID', 'Student_ID']]\n",
    "submission['Is_Shortlisted']=prediction_f[:,1]"
   ]
  },
  {
   "cell_type": "code",
   "execution_count": 58,
   "metadata": {
    "collapsed": false
   },
   "outputs": [],
   "source": [
    "submission.to_csv(path+'solution6.csv',index=False)"
   ]
  },
  {
   "cell_type": "code",
   "execution_count": null,
   "metadata": {
    "collapsed": true
   },
   "outputs": [],
   "source": []
  }
 ],
 "metadata": {
  "kernelspec": {
   "display_name": "Python 3",
   "language": "python",
   "name": "python3"
  },
  "language_info": {
   "codemirror_mode": {
    "name": "ipython",
    "version": 3
   },
   "file_extension": ".py",
   "mimetype": "text/x-python",
   "name": "python",
   "nbconvert_exporter": "python",
   "pygments_lexer": "ipython3",
   "version": "3.4.3"
  }
 },
 "nbformat": 4,
 "nbformat_minor": 0
}
