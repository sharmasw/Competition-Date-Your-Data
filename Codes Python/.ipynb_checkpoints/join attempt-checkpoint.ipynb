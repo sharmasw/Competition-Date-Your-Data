{
 "cells": [
  {
   "cell_type": "code",
   "execution_count": 543,
   "metadata": {
    "collapsed": true
   },
   "outputs": [],
   "source": [
    "path='D:/Project Data/Date your data/'\n",
    "import pandas as pd\n",
    "import numpy as np\n",
    "import scipy as sp\n",
    "import matplotlib.pyplot as plt\n",
    "import seaborn as sns\n",
    "import random\n",
    "%matplotlib inline"
   ]
  },
  {
   "cell_type": "code",
   "execution_count": 467,
   "metadata": {
    "collapsed": false
   },
   "outputs": [],
   "source": [
    "train=pd.read_csv(path+'train.csv')\n",
    "test=pd.read_csv(path+'test.csv')\n",
    "student1=pd.read_csv(path+'Student.csv')\n",
    "internship=pd.read_csv(path+'Internship.csv')\n",
    "train.shape,test.shape,student.shape,internship.shape\n",
    "student1['Location']=student1['Location'].fillna('9999')"
   ]
  },
  {
   "cell_type": "code",
   "execution_count": 468,
   "metadata": {
    "collapsed": false
   },
   "outputs": [],
   "source": [
    "Exp_type={'job':3,\n",
    "'internship':3,\n",
    "np.NaN:0,\n",
    "'academic_project':2,\n",
    "'workshop':1,\n",
    "'award':2,\n",
    "'participation':1,\n",
    "'training':1,\n",
    "'por':1,\n",
    "'other':1}\n",
    "\n",
    "\n",
    "def Exp(x):\n",
    "    return(Exp_type[x]) \n",
    "\n",
    "student1['Experience_Type']=student1['Experience_Type'].apply(Exp)"
   ]
  },
  {
   "cell_type": "code",
   "execution_count": 469,
   "metadata": {
    "collapsed": false
   },
   "outputs": [
    {
     "data": {
      "text/plain": [
       "Index(['Student_ID', 'Institute_Category', 'Institute_location', 'hometown', 'Degree', 'Stream', 'Current_year', 'Year_of_graduation', 'Performance_PG', 'PG_scale', 'Performance_UG', 'UG_Scale', 'Performance_12th', 'Performance_10th', 'Experience_Type', 'Profile', 'Location', 'Start Date', 'End Date'], dtype='object')"
      ]
     },
     "execution_count": 469,
     "metadata": {},
     "output_type": "execute_result"
    }
   ],
   "source": [
    "student1.columns"
   ]
  },
  {
   "cell_type": "code",
   "execution_count": 470,
   "metadata": {
    "collapsed": false
   },
   "outputs": [],
   "source": [
    "location=[]\n",
    "homelocation=[]\n",
    "Institute_location=[]\n",
    "for i in np.unique(student1['Student_ID']).tolist():\n",
    "    lll=student1[student1['Student_ID']==i]\n",
    "    kkk=np.unique(lll['Location']).tolist()\n",
    "    yyy=np.unique(lll['hometown']).tolist()\n",
    "    uuu=np.unique(lll['Institute_location']).tolist()\n",
    "    location.append(kkk)\n",
    "    homelocation.append(yyy)\n",
    "    Institute_location.append(uuu)"
   ]
  },
  {
   "cell_type": "code",
   "execution_count": 471,
   "metadata": {
    "collapsed": false
   },
   "outputs": [
    {
     "data": {
      "text/plain": [
       "(72621, 72621, 72621)"
      ]
     },
     "execution_count": 471,
     "metadata": {},
     "output_type": "execute_result"
    }
   ],
   "source": [
    "len(location),len(homelocation),len(Institute_location)"
   ]
  },
  {
   "cell_type": "code",
   "execution_count": 472,
   "metadata": {
    "collapsed": true
   },
   "outputs": [],
   "source": [
    "fullset=[]\n",
    "for i in range(0,len(location)):\n",
    "    z=location[i]+homelocation[i]+Institute_location[i]\n",
    "    fullset.append(z)"
   ]
  },
  {
   "cell_type": "code",
   "execution_count": 473,
   "metadata": {
    "collapsed": true
   },
   "outputs": [],
   "source": [
    "columns=['Student_ID', 'Institute_Category', 'Institute_location', 'hometown', 'Degree', 'Stream', \n",
    "         'Current_year', 'Year_of_graduation', 'Performance_PG', 'PG_scale', 'Performance_UG', 'UG_Scale',\n",
    "         'Performance_12th', 'Performance_10th','Experience_Type']"
   ]
  },
  {
   "cell_type": "code",
   "execution_count": 474,
   "metadata": {
    "collapsed": false
   },
   "outputs": [
    {
     "data": {
      "text/plain": [
       "Index(['Internship_ID', 'Student_ID', 'Earliest_Start_Date', 'Expected_Stipend', 'Minimum_Duration', 'Preferred_location', 'Is_Part_Time', 'Is_Shortlisted'], dtype='object')"
      ]
     },
     "execution_count": 474,
     "metadata": {},
     "output_type": "execute_result"
    }
   ],
   "source": [
    "train.columns"
   ]
  },
  {
   "cell_type": "code",
   "execution_count": 475,
   "metadata": {
    "collapsed": false
   },
   "outputs": [],
   "source": [
    "student=student1[columns]\n",
    "student=student.drop_duplicates()"
   ]
  },
  {
   "cell_type": "code",
   "execution_count": 476,
   "metadata": {
    "collapsed": true
   },
   "outputs": [],
   "source": [
    "user=np.unique(student1['Student_ID']).tolist()\n",
    "loc_dict={}\n",
    "for i,location in zip(user,fullset):\n",
    "    loc_dict[i]=location\n",
    "    \n",
    "def Loc(x):\n",
    "    return(loc_dict[x]) \n",
    "\n",
    "student['Location_all']=student['Student_ID'].apply(Loc)"
   ]
  },
  {
   "cell_type": "code",
   "execution_count": 501,
   "metadata": {
    "collapsed": true
   },
   "outputs": [],
   "source": [
    "large=pd.merge(pd.merge(train,student,how='left', on='Student_ID'),internship,how='left', on='Internship_ID')"
   ]
  },
  {
   "cell_type": "code",
   "execution_count": 502,
   "metadata": {
    "collapsed": false
   },
   "outputs": [],
   "source": [
    "cols=['Internship_ID', 'Student_ID', 'Earliest_Start_Date', 'Expected_Stipend',\n",
    " 'Minimum_Duration', 'Preferred_location', 'Is_Part_Time', 'Is_Shortlisted',\n",
    " 'Institute_Category', 'Institute_location', 'hometown', 'Degree',\n",
    " 'Stream', 'Current_year', 'Year_of_graduation', 'Performance_PG',\n",
    " 'PG_scale', 'Performance_UG', 'UG_Scale', 'Performance_12th',\n",
    " 'Performance_10th', 'Experience_Type', 'Location_all', 'Internship_Profile',\n",
    " 'Skills_required', 'Internship_Type', 'Internship_Location', 'Internship_category',\n",
    " 'No_of_openings', 'Stipend_Type', 'Stipend1', 'Stipend2',\n",
    " 'Internship_deadline', 'Start_Date', 'Internship_Duration(Months)'\n",
    " ]"
   ]
  },
  {
   "cell_type": "code",
   "execution_count": 503,
   "metadata": {
    "collapsed": false
   },
   "outputs": [],
   "source": [
    "large=large[cols]"
   ]
  },
  {
   "cell_type": "code",
   "execution_count": 504,
   "metadata": {
    "collapsed": false
   },
   "outputs": [
    {
     "data": {
      "text/plain": [
       "Index(['Internship_ID', 'Student_ID', 'Earliest_Start_Date', 'Expected_Stipend', 'Minimum_Duration', 'Preferred_location', 'Is_Part_Time', 'Is_Shortlisted', 'Institute_Category', 'Institute_location', 'hometown', 'Degree', 'Stream', 'Current_year', 'Year_of_graduation', 'Performance_PG', 'PG_scale', 'Performance_UG', 'UG_Scale', 'Performance_12th', 'Performance_10th', 'Experience_Type', 'Location_all', 'Internship_Profile', 'Skills_required', 'Internship_Type', 'Internship_Location', 'Internship_category', 'No_of_openings', 'Stipend_Type', 'Stipend1', 'Stipend2', 'Internship_deadline', 'Start_Date', 'Internship_Duration(Months)'], dtype='object')"
      ]
     },
     "execution_count": 504,
     "metadata": {},
     "output_type": "execute_result"
    }
   ],
   "source": [
    "large.columns"
   ]
  },
  {
   "cell_type": "code",
   "execution_count": 505,
   "metadata": {
    "collapsed": true
   },
   "outputs": [],
   "source": [
    "need_treat=['Preferred_location','Degree', 'Stream','Year_of_graduation','Internship_Profile', 'Skills_required']"
   ]
  },
  {
   "cell_type": "code",
   "execution_count": 506,
   "metadata": {
    "collapsed": false
   },
   "outputs": [],
   "source": [
    "large['Earliest_Start_Date']=pd.to_datetime(large['Earliest_Start_Date'],format=\"%d-%m-%Y\")\n",
    "large['Start_Date']=pd.to_datetime(large['Start_Date'],format=\"%d-%m-%Y\")"
   ]
  },
  {
   "cell_type": "code",
   "execution_count": 507,
   "metadata": {
    "collapsed": false
   },
   "outputs": [],
   "source": [
    "large['joining_gap']=large['Earliest_Start_Date']-large['Start_Date']\n",
    "large['joining_gap']=large['joining_gap'].dt.days"
   ]
  },
  {
   "cell_type": "code",
   "execution_count": 508,
   "metadata": {
    "collapsed": false
   },
   "outputs": [],
   "source": [
    "large['PG_score']=large['Performance_PG']/large['PG_scale']\n",
    "large['UG_score']=large['Performance_UG']/large['UG_Scale']"
   ]
  },
  {
   "cell_type": "code",
   "execution_count": 509,
   "metadata": {
    "collapsed": false
   },
   "outputs": [],
   "source": [
    "large['Stipend']=large[['Stipend1','Stipend2']].max(axis=1)\n",
    "\n",
    "def stipend(data):\n",
    "    if data['Stipend'] ==0:\n",
    "        return 'No Stipend'\n",
    "    elif data['Stipend'] <=5000:\n",
    "        return '0-5K' \n",
    "    elif data['Stipend'] <=10000:\n",
    "        return '5-10K'\n",
    "    else:\n",
    "        return '10k+'\n",
    "\n",
    "large['Stipend_gi'] = large.apply(stipend, axis=1)"
   ]
  },
  {
   "cell_type": "code",
   "execution_count": 510,
   "metadata": {
    "collapsed": true
   },
   "outputs": [],
   "source": [
    "for_dummy=['Expected_Stipend','Institute_Category','Current_year', 'Internship_Type','Internship_category',\n",
    "           'Stipend_Type','Stipend_gi']\n",
    "for i in for_dummy:\n",
    "    new=pd.get_dummies(large[i],prefix=i, prefix_sep='_')\n",
    "    large=pd.concat((large,new),axis=1)\n"
   ]
  },
  {
   "cell_type": "code",
   "execution_count": 517,
   "metadata": {
    "collapsed": false
   },
   "outputs": [],
   "source": [
    "def loc(large):\n",
    "    if large['Preferred_location'] in large['Location_all']:\n",
    "        return 1\n",
    "    else:\n",
    "        return 0\n",
    "\n",
    "large['Pref_location_Ok'] = large.apply(loc, axis=1)\n",
    "\n",
    "def loc2(large):\n",
    "    if large['Internship_Location'] in large['Location_all']:\n",
    "        return 1\n",
    "    else:\n",
    "        return 0\n",
    "\n",
    "large['Intern_location_Ok'] = large.apply(loc2, axis=1)"
   ]
  },
  {
   "cell_type": "code",
   "execution_count": 520,
   "metadata": {
    "collapsed": false
   },
   "outputs": [
    {
     "data": {
      "text/plain": [
       "Index(['Internship_ID', 'Student_ID', 'Earliest_Start_Date', 'Expected_Stipend', 'Minimum_Duration', 'Preferred_location', 'Is_Part_Time', 'Is_Shortlisted', 'Institute_Category', 'Institute_location', 'hometown', 'Degree', 'Stream', 'Current_year', 'Year_of_graduation', 'Performance_PG', 'PG_scale', 'Performance_UG', 'UG_Scale', 'Performance_12th', 'Performance_10th', 'Experience_Type', 'Location_all', 'Internship_Profile', 'Skills_required', 'Internship_Type', 'Internship_Location', 'Internship_category', 'No_of_openings', 'Stipend_Type', 'Stipend1', 'Stipend2', 'Internship_deadline', 'Start_Date', 'Internship_Duration(Months)', 'joining_gap', 'PG_score', 'UG_score', 'Stipend', 'Stipend_gi', 'Expected_Stipend_10K+', 'Expected_Stipend_2-5K', 'Expected_Stipend_5-10K', 'Expected_Stipend_No Expectations', 'Institute_Category_N', 'Institute_Category_Y', 'Current_year_1', 'Current_year_2', 'Current_year_3', 'Current_year_4', 'Current_year_5', 'Current_year_already a graduate', 'Internship_Type_regular', 'Internship_Type_virtual', 'Internship_category_Full Time', 'Internship_category_Part time', 'Stipend_Type_fixed', 'Stipend_Type_performance', 'Stipend_Type_unpaid', 'Stipend_Type_variable', 'Stipend_gi_0-5K', 'Stipend_gi_10k+', 'Stipend_gi_5-10K', 'Pref_location_Ok', 'Intern_location_Ok'], dtype='object')"
      ]
     },
     "execution_count": 520,
     "metadata": {},
     "output_type": "execute_result"
    }
   ],
   "source": [
    "large.columns"
   ]
  },
  {
   "cell_type": "code",
   "execution_count": 521,
   "metadata": {
    "collapsed": true
   },
   "outputs": [],
   "source": [
    "columnstouse=['Internship_ID', 'Student_ID','Expected_Stipend_10K+', 'Expected_Stipend_2-5K', 'Expected_Stipend_5-10K',\n",
    "              'Minimum_Duration','Is_Part_Time', 'Is_Shortlisted','Institute_Category_Y',\n",
    "             'Current_year_2', 'Current_year_3', 'Current_year_4', 'Current_year_5', 'Current_year_already a graduate',\n",
    "              'Year_of_graduation','Experience_Type',\n",
    "             'PG_score', 'UG_score','Performance_12th', 'Performance_10th','Internship_Type_regular',\n",
    "              'Internship_category_Full Time','No_of_openings',\n",
    "             'Stipend_Type_fixed', 'Stipend_Type_performance', 'Stipend_Type_variable',\n",
    "             'Stipend_gi_10k+', 'Stipend_gi_5-10K','Internship_Duration(Months)', 'joining_gap',\n",
    "             'Pref_location_Ok', 'Intern_location_Ok']"
   ]
  },
  {
   "cell_type": "code",
   "execution_count": 522,
   "metadata": {
    "collapsed": false,
    "scrolled": true
   },
   "outputs": [],
   "source": [
    "large=large[columnstouse]"
   ]
  },
  {
   "cell_type": "code",
   "execution_count": 523,
   "metadata": {
    "collapsed": false
   },
   "outputs": [
    {
     "data": {
      "text/plain": [
       "(264415, 32)"
      ]
     },
     "execution_count": 523,
     "metadata": {},
     "output_type": "execute_result"
    }
   ],
   "source": [
    "large.shape"
   ]
  },
  {
   "cell_type": "code",
   "execution_count": 560,
   "metadata": {
    "collapsed": false
   },
   "outputs": [
    {
     "data": {
      "text/plain": [
       "((35387, 32), (229028, 32))"
      ]
     },
     "execution_count": 560,
     "metadata": {},
     "output_type": "execute_result"
    }
   ],
   "source": [
    "shortlisted=large[large['Is_Shortlisted']==1]\n",
    "sorry=large[large['Is_Shortlisted']==0]\n",
    "shortlisted.shape,sorry.shape"
   ]
  },
  {
   "cell_type": "code",
   "execution_count": null,
   "metadata": {
    "collapsed": true
   },
   "outputs": [],
   "source": []
  },
  {
   "cell_type": "code",
   "execution_count": 561,
   "metadata": {
    "collapsed": false
   },
   "outputs": [],
   "source": [
    "rows=random.sample(sorry.index.tolist(),80000)\n",
    "sorry=sorry.ix[rows]"
   ]
  },
  {
   "cell_type": "code",
   "execution_count": 562,
   "metadata": {
    "collapsed": true
   },
   "outputs": [],
   "source": [
    "large_short=pd.concat([shortlisted,sorry])"
   ]
  },
  {
   "cell_type": "code",
   "execution_count": 563,
   "metadata": {
    "collapsed": true
   },
   "outputs": [],
   "source": [
    "X=['Expected_Stipend_10K+', 'Expected_Stipend_2-5K', 'Expected_Stipend_5-10K',\n",
    "              'Minimum_Duration','Is_Part_Time','Institute_Category_Y',\n",
    "             'Current_year_2', 'Current_year_3', 'Current_year_4', 'Current_year_5', 'Current_year_already a graduate',\n",
    "              'Year_of_graduation','Experience_Type',\n",
    "             'PG_score', 'UG_score','Performance_12th', 'Performance_10th','Internship_Type_regular',\n",
    "              'Internship_category_Full Time','No_of_openings',\n",
    "             'Stipend_Type_fixed', 'Stipend_Type_performance', 'Stipend_Type_variable',\n",
    "             'Stipend_gi_10k+', 'Stipend_gi_5-10K','Internship_Duration(Months)', 'joining_gap','Pref_location_Ok',\n",
    "   'Intern_location_Ok']\n",
    "Y=['Is_Shortlisted']"
   ]
  },
  {
   "cell_type": "code",
   "execution_count": 571,
   "metadata": {
    "collapsed": false
   },
   "outputs": [
    {
     "ename": "AttributeError",
     "evalue": "'RandomForestClassifier' object has no attribute 'feature_importance'",
     "output_type": "error",
     "traceback": [
      "\u001b[1;31m---------------------------------------------------------------------------\u001b[0m",
      "\u001b[1;31mAttributeError\u001b[0m                            Traceback (most recent call last)",
      "\u001b[1;32m<ipython-input-571-4c199f282f86>\u001b[0m in \u001b[0;36m<module>\u001b[1;34m()\u001b[0m\n\u001b[1;32m----> 1\u001b[1;33m \u001b[0mModel1\u001b[0m\u001b[1;33m.\u001b[0m\u001b[0mfeature_importance\u001b[0m\u001b[1;33m\u001b[0m\u001b[0m\n\u001b[0m",
      "\u001b[1;31mAttributeError\u001b[0m: 'RandomForestClassifier' object has no attribute 'feature_importance'"
     ]
    }
   ],
   "source": [
    "Model1.feature_importance"
   ]
  },
  {
   "cell_type": "code",
   "execution_count": 564,
   "metadata": {
    "collapsed": true
   },
   "outputs": [],
   "source": [
    "from sklearn.cross_validation import train_test_split\n",
    "import sklearn.metrics as metrics \n",
    "import sklearn.ensemble as ensemble"
   ]
  },
  {
   "cell_type": "code",
   "execution_count": 565,
   "metadata": {
    "collapsed": false
   },
   "outputs": [
    {
     "name": "stdout",
     "output_type": "stream",
     "text": [
      "******************************************************************************************\n",
      "Train X:  (76155, 29) Test X:  (39232, 29) Train Y:  (76155, 1) Test Y:  (39232, 1)\n",
      "******************************************************************************************\n"
     ]
    }
   ],
   "source": [
    "X_train, X_test, y_train, y_test = train_test_split(large_short[X], large_short[Y], test_size=0.34, random_state=42)\n",
    "\n",
    "print('*'*90)\n",
    "print('Train X: ',X_train.shape,'Test X: ', X_test.shape,'Train Y: ', y_train.shape,'Test Y: ', y_test.shape)\n",
    "print('*'*90)"
   ]
  },
  {
   "cell_type": "code",
   "execution_count": 566,
   "metadata": {
    "collapsed": false
   },
   "outputs": [
    {
     "name": "stderr",
     "output_type": "stream",
     "text": [
      "C:\\Anaconda3\\lib\\site-packages\\IPython\\kernel\\__main__.py:2: DataConversionWarning: A column-vector y was passed when a 1d array was expected. Please change the shape of y to (n_samples,), for example using ravel().\n",
      "  from IPython.kernel.zmq import kernelapp as app\n"
     ]
    },
    {
     "data": {
      "text/plain": [
       "RandomForestClassifier(bootstrap=True, class_weight=None, criterion='gini',\n",
       "            max_depth=None, max_features='auto', max_leaf_nodes=None,\n",
       "            min_samples_leaf=1, min_samples_split=2,\n",
       "            min_weight_fraction_leaf=0.0, n_estimators=10, n_jobs=1,\n",
       "            oob_score=False, random_state=None, verbose=0,\n",
       "            warm_start=False)"
      ]
     },
     "execution_count": 566,
     "metadata": {},
     "output_type": "execute_result"
    }
   ],
   "source": [
    "Model1=ensemble.RandomForestClassifier()\n",
    "Model1.fit(X_train,y_train)"
   ]
  },
  {
   "cell_type": "code",
   "execution_count": 569,
   "metadata": {
    "collapsed": false
   },
   "outputs": [
    {
     "name": "stdout",
     "output_type": "stream",
     "text": [
      "******************************************************************************************\n",
      "Precited (array([0, 1], dtype=int64), array([32207,  7025], dtype=int64))\n",
      "******************************************************************************************\n",
      "Actual (array([0, 1], dtype=int64), array([27237, 11995], dtype=int64))\n",
      "******************************************************************************************\n",
      "Confusion matrix [[25678  1559]\n",
      " [ 6529  5466]]\n",
      "******************************************************************************************\n",
      "Accuracy 0.793841761827\n",
      "******************************************************************************************\n",
      "AUC 0.5\n"
     ]
    }
   ],
   "source": [
    "prediction=Model1.predict(X_test)\n",
    "print('*'*90)\n",
    "print('Precited',np.unique(prediction,return_counts=True))\n",
    "print('*'*90)\n",
    "print('Actual',np.unique(y_test,return_counts=True))\n",
    "print('*'*90)\n",
    "print('Confusion matrix',\n",
    "      metrics.confusion_matrix(y_test,prediction))\n",
    "print('*'*90)\n",
    "\n",
    "print('Accuracy',metrics.accuracy_score(y_test,prediction))\n",
    "print('*'*90)\n",
    "\n",
    "prediction=Model1.predict_proba(X_test)\n",
    "print('AUC',metrics.auc(y_test,prediction[:,1],reorder=True))"
   ]
  },
  {
   "cell_type": "code",
   "execution_count": null,
   "metadata": {
    "collapsed": false
   },
   "outputs": [],
   "source": []
  },
  {
   "cell_type": "code",
   "execution_count": null,
   "metadata": {
    "collapsed": false
   },
   "outputs": [],
   "source": []
  },
  {
   "cell_type": "code",
   "execution_count": null,
   "metadata": {
    "collapsed": true
   },
   "outputs": [],
   "source": []
  },
  {
   "cell_type": "code",
   "execution_count": null,
   "metadata": {
    "collapsed": false
   },
   "outputs": [],
   "source": []
  },
  {
   "cell_type": "code",
   "execution_count": null,
   "metadata": {
    "collapsed": false
   },
   "outputs": [],
   "source": []
  },
  {
   "cell_type": "code",
   "execution_count": null,
   "metadata": {
    "collapsed": true
   },
   "outputs": [],
   "source": []
  }
 ],
 "metadata": {
  "kernelspec": {
   "display_name": "Python 3",
   "language": "python",
   "name": "python3"
  },
  "language_info": {
   "codemirror_mode": {
    "name": "ipython",
    "version": 3
   },
   "file_extension": ".py",
   "mimetype": "text/x-python",
   "name": "python",
   "nbconvert_exporter": "python",
   "pygments_lexer": "ipython3",
   "version": "3.4.3"
  }
 },
 "nbformat": 4,
 "nbformat_minor": 0
}
