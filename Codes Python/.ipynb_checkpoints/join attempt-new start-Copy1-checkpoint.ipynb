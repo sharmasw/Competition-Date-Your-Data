{
 "cells": [
  {
   "cell_type": "code",
   "execution_count": 174,
   "metadata": {
    "collapsed": true
   },
   "outputs": [],
   "source": [
    "path='D:/Project Data/Date your data/'\n",
    "import pandas as pd\n",
    "import numpy as np\n",
    "import scipy as sp\n",
    "import matplotlib.pyplot as plt\n",
    "import seaborn as sns\n",
    "import random\n",
    "%matplotlib inline"
   ]
  },
  {
   "cell_type": "code",
   "execution_count": 175,
   "metadata": {
    "collapsed": true
   },
   "outputs": [],
   "source": [
    "#created a dataset of my own for categorizing the skill requirement and applicants skillset"
   ]
  },
  {
   "cell_type": "code",
   "execution_count": 176,
   "metadata": {
    "collapsed": false
   },
   "outputs": [
    {
     "name": "stdout",
     "output_type": "stream",
     "text": [
      "(192582, 8) (107428, 7) (151191, 19) (6899, 286) (72621, 2) (6761, 2)\n"
     ]
    }
   ],
   "source": [
    "train=pd.read_csv(path+'train.csv')\n",
    "test=pd.read_csv(path+'test.csv')\n",
    "student1=pd.read_csv(path+'Student.csv')\n",
    "internship=pd.read_csv(path+'Internship.csv')\n",
    "student_domain=pd.read_csv(path+'student_domain.csv')\n",
    "intern_domain=pd.read_csv(path+'program.csv')\n",
    "print(train.shape,test.shape,student1.shape,internship.shape,student_domain.shape,intern_domain.shape)\n",
    "student1['Location']=student1['Location'].fillna('9999')"
   ]
  },
  {
   "cell_type": "code",
   "execution_count": 177,
   "metadata": {
    "collapsed": true
   },
   "outputs": [],
   "source": [
    "#joining all dataset"
   ]
  },
  {
   "cell_type": "code",
   "execution_count": 178,
   "metadata": {
    "collapsed": true
   },
   "outputs": [],
   "source": [
    "train=pd.merge(pd.merge(train,student_domain, how='left',on='Student_ID'),intern_domain,how='left',on='Internship_ID')"
   ]
  },
  {
   "cell_type": "code",
   "execution_count": 179,
   "metadata": {
    "collapsed": false
   },
   "outputs": [
    {
     "data": {
      "text/html": [
       "<div style=\"max-height:1000px;max-width:1500px;overflow:auto;\">\n",
       "<table border=\"1\" class=\"dataframe\">\n",
       "  <thead>\n",
       "    <tr style=\"text-align: right;\">\n",
       "      <th></th>\n",
       "      <th>Internship_ID</th>\n",
       "      <th>Student_ID</th>\n",
       "      <th>Earliest_Start_Date</th>\n",
       "      <th>Expected_Stipend</th>\n",
       "      <th>Minimum_Duration</th>\n",
       "      <th>Preferred_location</th>\n",
       "      <th>Is_Part_Time</th>\n",
       "      <th>Is_Shortlisted</th>\n",
       "      <th>Student Domain</th>\n",
       "      <th>Skill Domain</th>\n",
       "    </tr>\n",
       "  </thead>\n",
       "  <tbody>\n",
       "    <tr>\n",
       "      <th>0</th>\n",
       "      <td>  8161</td>\n",
       "      <td> 78663553</td>\n",
       "      <td> 03-01-2015</td>\n",
       "      <td>  2-5K</td>\n",
       "      <td> 3</td>\n",
       "      <td>  NaN</td>\n",
       "      <td> 0</td>\n",
       "      <td> 0</td>\n",
       "      <td> Technical</td>\n",
       "      <td>         Other</td>\n",
       "    </tr>\n",
       "    <tr>\n",
       "      <th>1</th>\n",
       "      <td>  4977</td>\n",
       "      <td>  7695797</td>\n",
       "      <td> 19-12-2014</td>\n",
       "      <td> 5-10K</td>\n",
       "      <td> 2</td>\n",
       "      <td> IHFG</td>\n",
       "      <td> 1</td>\n",
       "      <td> 0</td>\n",
       "      <td> Technical</td>\n",
       "      <td> Non-Technical</td>\n",
       "    </tr>\n",
       "    <tr>\n",
       "      <th>2</th>\n",
       "      <td> 10271</td>\n",
       "      <td> 78663092</td>\n",
       "      <td> 06-01-2015</td>\n",
       "      <td> 5-10K</td>\n",
       "      <td> 6</td>\n",
       "      <td>  NaN</td>\n",
       "      <td> 0</td>\n",
       "      <td> 0</td>\n",
       "      <td> Technical</td>\n",
       "      <td>     Technical</td>\n",
       "    </tr>\n",
       "    <tr>\n",
       "      <th>3</th>\n",
       "      <td>  7393</td>\n",
       "      <td>  7708503</td>\n",
       "      <td> 03-12-2014</td>\n",
       "      <td>  2-5K</td>\n",
       "      <td> 1</td>\n",
       "      <td> IHFG</td>\n",
       "      <td> 0</td>\n",
       "      <td> 0</td>\n",
       "      <td> Technical</td>\n",
       "      <td>         Other</td>\n",
       "    </tr>\n",
       "    <tr>\n",
       "      <th>4</th>\n",
       "      <td> 11125</td>\n",
       "      <td> 78659782</td>\n",
       "      <td> 02-01-2015</td>\n",
       "      <td>  10K+</td>\n",
       "      <td> 6</td>\n",
       "      <td>  NaN</td>\n",
       "      <td> 1</td>\n",
       "      <td> 0</td>\n",
       "      <td>     Other</td>\n",
       "      <td>     Technical</td>\n",
       "    </tr>\n",
       "  </tbody>\n",
       "</table>\n",
       "</div>"
      ],
      "text/plain": [
       "   Internship_ID  Student_ID Earliest_Start_Date Expected_Stipend  \\\n",
       "0           8161    78663553          03-01-2015             2-5K   \n",
       "1           4977     7695797          19-12-2014            5-10K   \n",
       "2          10271    78663092          06-01-2015            5-10K   \n",
       "3           7393     7708503          03-12-2014             2-5K   \n",
       "4          11125    78659782          02-01-2015             10K+   \n",
       "\n",
       "   Minimum_Duration Preferred_location  Is_Part_Time  Is_Shortlisted  \\\n",
       "0                 3                NaN             0               0   \n",
       "1                 2               IHFG             1               0   \n",
       "2                 6                NaN             0               0   \n",
       "3                 1               IHFG             0               0   \n",
       "4                 6                NaN             1               0   \n",
       "\n",
       "  Student Domain   Skill Domain  \n",
       "0      Technical          Other  \n",
       "1      Technical  Non-Technical  \n",
       "2      Technical      Technical  \n",
       "3      Technical          Other  \n",
       "4          Other      Technical  "
      ]
     },
     "execution_count": 179,
     "metadata": {},
     "output_type": "execute_result"
    }
   ],
   "source": [
    "train.head()"
   ]
  },
  {
   "cell_type": "code",
   "execution_count": 180,
   "metadata": {
    "collapsed": true
   },
   "outputs": [],
   "source": [
    "# feature variable where how many applicants have applied for the program "
   ]
  },
  {
   "cell_type": "code",
   "execution_count": 181,
   "metadata": {
    "collapsed": false
   },
   "outputs": [],
   "source": [
    "rrr=np.unique(train['Internship_ID'],return_counts=True)\n",
    "interncount=pd.DataFrame(data={'Internship_ID':rrr[0].tolist(),'NoofApp':rrr[1].tolist()})"
   ]
  },
  {
   "cell_type": "code",
   "execution_count": 182,
   "metadata": {
    "collapsed": true
   },
   "outputs": [],
   "source": [
    "#aggregating users data in 1 row"
   ]
  },
  {
   "cell_type": "code",
   "execution_count": 183,
   "metadata": {
    "collapsed": false
   },
   "outputs": [],
   "source": [
    "Exp_type={'job':4,'internship':3,np.NaN:0,'academic_project':2,'workshop':1,'award':2,'participation':1,'training':1,\n",
    "'por':1,'other':1}\n",
    "\n",
    "\n",
    "def Exp(x):\n",
    "    return(Exp_type[x]) \n",
    "\n",
    "student1['Experience_Type']=student1['Experience_Type'].apply(Exp)"
   ]
  },
  {
   "cell_type": "code",
   "execution_count": 184,
   "metadata": {
    "collapsed": false
   },
   "outputs": [
    {
     "data": {
      "text/plain": [
       "Index(['Student_ID', 'Institute_Category', 'Institute_location', 'hometown', 'Degree', 'Stream', 'Current_year', 'Year_of_graduation', 'Performance_PG', 'PG_scale', 'Performance_UG', 'UG_Scale', 'Performance_12th', 'Performance_10th', 'Experience_Type', 'Profile', 'Location', 'Start Date', 'End Date'], dtype='object')"
      ]
     },
     "execution_count": 184,
     "metadata": {},
     "output_type": "execute_result"
    }
   ],
   "source": [
    "student1.columns"
   ]
  },
  {
   "cell_type": "code",
   "execution_count": 185,
   "metadata": {
    "collapsed": false
   },
   "outputs": [],
   "source": [
    "location=[]\n",
    "homelocation=[]\n",
    "Institute_location=[]\n",
    "for i in np.unique(student1['Student_ID']).tolist():\n",
    "    lll=student1[student1['Student_ID']==i]\n",
    "    kkk=np.unique(lll['Location']).tolist()\n",
    "    yyy=np.unique(lll['hometown']).tolist()\n",
    "    uuu=np.unique(lll['Institute_location']).tolist()\n",
    "    location.append(kkk)\n",
    "    homelocation.append(yyy)\n",
    "    Institute_location.append(uuu)"
   ]
  },
  {
   "cell_type": "code",
   "execution_count": 186,
   "metadata": {
    "collapsed": false
   },
   "outputs": [
    {
     "data": {
      "text/plain": [
       "(72621, 72621, 72621)"
      ]
     },
     "execution_count": 186,
     "metadata": {},
     "output_type": "execute_result"
    }
   ],
   "source": [
    "len(location),len(homelocation),len(Institute_location)"
   ]
  },
  {
   "cell_type": "code",
   "execution_count": 187,
   "metadata": {
    "collapsed": true
   },
   "outputs": [],
   "source": [
    "fullset=[]\n",
    "for i in range(0,len(location)):\n",
    "    z=location[i]+homelocation[i]+Institute_location[i]\n",
    "    fullset.append(z)"
   ]
  },
  {
   "cell_type": "code",
   "execution_count": 188,
   "metadata": {
    "collapsed": true
   },
   "outputs": [],
   "source": [
    "columns=['Student_ID', 'Institute_Category', 'Institute_location', 'hometown', 'Degree', 'Stream', \n",
    "         'Current_year', 'Year_of_graduation', 'Performance_PG', 'PG_scale', 'Performance_UG', 'UG_Scale',\n",
    "         'Performance_12th', 'Performance_10th'\n",
    "        ]"
   ]
  },
  {
   "cell_type": "code",
   "execution_count": 189,
   "metadata": {
    "collapsed": false
   },
   "outputs": [],
   "source": [
    "student=student1[columns]\n",
    "student=student.drop_duplicates()"
   ]
  },
  {
   "cell_type": "code",
   "execution_count": 190,
   "metadata": {
    "collapsed": false
   },
   "outputs": [
    {
     "data": {
      "text/plain": [
       "1"
      ]
     },
     "execution_count": 190,
     "metadata": {},
     "output_type": "execute_result"
    }
   ],
   "source": [
    "max(np.unique(student['Student_ID'],return_counts=True)[1])"
   ]
  },
  {
   "cell_type": "code",
   "execution_count": 191,
   "metadata": {
    "collapsed": true
   },
   "outputs": [],
   "source": [
    "Exp_ty=[]\n",
    "for i in np.unique(student1['Student_ID']).tolist():\n",
    "    lll=student1[student1['Student_ID']==i]\n",
    "    Exp_ty.append((lll['Experience_Type'].tolist()))"
   ]
  },
  {
   "cell_type": "code",
   "execution_count": 192,
   "metadata": {
    "collapsed": false
   },
   "outputs": [
    {
     "data": {
      "text/plain": [
       "(72621, 14)"
      ]
     },
     "execution_count": 192,
     "metadata": {},
     "output_type": "execute_result"
    }
   ],
   "source": [
    "student.shape"
   ]
  },
  {
   "cell_type": "code",
   "execution_count": 193,
   "metadata": {
    "collapsed": false
   },
   "outputs": [],
   "source": [
    "student['Experience_Type'] =[i for i in Exp_ty]"
   ]
  },
  {
   "cell_type": "code",
   "execution_count": 194,
   "metadata": {
    "collapsed": false
   },
   "outputs": [],
   "source": [
    "def typ0(large):\n",
    "    if 0 in large['Experience_Type']:\n",
    "        return 1\n",
    "    else:\n",
    "        return 0\n",
    "    \n",
    "def typ1(large):\n",
    "    if 1 in large['Experience_Type']:\n",
    "        return 1\n",
    "    else:\n",
    "        return 0\n",
    "    \n",
    "def typ2(large):\n",
    "    if 2 in large['Experience_Type']:\n",
    "        return 1\n",
    "    else:\n",
    "        return 0\n",
    "    \n",
    "def typ3(large):\n",
    "    if 3 in large['Experience_Type']:\n",
    "        return 1\n",
    "    else:\n",
    "        return 0\n",
    "\n",
    "def typ4(large):\n",
    "    if 4 in large['Experience_Type']:\n",
    "        return 1\n",
    "    else:\n",
    "        return 0"
   ]
  },
  {
   "cell_type": "code",
   "execution_count": 195,
   "metadata": {
    "collapsed": false
   },
   "outputs": [],
   "source": [
    "student['Exp_type_0']=student.apply(typ0,axis=1)\n",
    "student['Exp_type_1']=student.apply(typ1,axis=1)\n",
    "student['Exp_type_2']=student.apply(typ2,axis=1)\n",
    "student['Exp_type_3']=student.apply(typ3,axis=1)\n",
    "student['Exp_type_4']=student.apply(typ4,axis=1)"
   ]
  },
  {
   "cell_type": "code",
   "execution_count": 196,
   "metadata": {
    "collapsed": true
   },
   "outputs": [],
   "source": [
    "student['Experience_Type'] =[max(i) for i in Exp_ty]"
   ]
  },
  {
   "cell_type": "code",
   "execution_count": 197,
   "metadata": {
    "collapsed": true
   },
   "outputs": [],
   "source": [
    "user=np.unique(student1['Student_ID']).tolist()\n",
    "loc_dict={}\n",
    "for i,location in zip(user,fullset):\n",
    "    loc_dict[i]=location\n",
    "    \n",
    "def Loc(x):\n",
    "    return(loc_dict[x]) \n",
    "\n",
    "student['Location_all']=student['Student_ID'].apply(Loc)"
   ]
  },
  {
   "cell_type": "code",
   "execution_count": 198,
   "metadata": {
    "collapsed": true
   },
   "outputs": [],
   "source": [
    "large=pd.merge(pd.merge(pd.merge(train,student,how='left', on='Student_ID'),internship,how='left', on='Internship_ID'),\n",
    "    interncount,how='left', on='Internship_ID')"
   ]
  },
  {
   "cell_type": "code",
   "execution_count": 199,
   "metadata": {
    "collapsed": false
   },
   "outputs": [],
   "source": [
    "cols=['Internship_ID', 'Student_ID',\n",
    " 'Earliest_Start_Date',\n",
    " 'Expected_Stipend',\n",
    " 'Minimum_Duration',\n",
    " 'Preferred_location',\n",
    " 'Is_Part_Time', 'Is_Shortlisted',\n",
    " 'Student Domain',\n",
    " 'Skill Domain', 'Institute_Category',\n",
    " 'Institute_location',\n",
    " 'hometown', 'Degree',\n",
    " 'Stream', 'Current_year',\n",
    " 'Year_of_graduation',\n",
    " 'Performance_PG',\n",
    " 'PG_scale', 'Performance_UG',\n",
    " 'UG_Scale', 'Performance_12th',\n",
    " 'Performance_10th',\n",
    " 'Experience_Type',\n",
    " 'Exp_type_0', 'Exp_type_1',\n",
    " 'Exp_type_2', 'Exp_type_3',\n",
    " 'Exp_type_4', 'Location_all',\n",
    " 'Internship_Profile',\n",
    " 'Skills_required',\n",
    " 'Internship_Type',\n",
    " 'Internship_Location',\n",
    " 'Internship_category',\n",
    " 'No_of_openings',\n",
    " 'Stipend_Type', 'Stipend1',\n",
    " 'Stipend2', 'Internship_deadline',\n",
    " 'Start_Date', 'Internship_Duration(Months)', 'NoofApp']"
   ]
  },
  {
   "cell_type": "code",
   "execution_count": 200,
   "metadata": {
    "collapsed": false
   },
   "outputs": [],
   "source": [
    "large=large[cols]"
   ]
  },
  {
   "cell_type": "code",
   "execution_count": 201,
   "metadata": {
    "collapsed": false
   },
   "outputs": [
    {
     "data": {
      "text/plain": [
       "(192582, 43)"
      ]
     },
     "execution_count": 201,
     "metadata": {},
     "output_type": "execute_result"
    }
   ],
   "source": [
    "large.shape"
   ]
  },
  {
   "cell_type": "code",
   "execution_count": 202,
   "metadata": {
    "collapsed": false,
    "scrolled": true
   },
   "outputs": [],
   "source": [
    "large['Earliest_Start_Date']=pd.to_datetime(large['Earliest_Start_Date'],format=\"%d-%m-%Y\")\n",
    "large['Start_Date']=pd.to_datetime(large['Start_Date'],format=\"%d-%m-%Y\")\n",
    "\n",
    "large['joining_gap']=large['Earliest_Start_Date']-large['Start_Date']\n",
    "large['joining_gap']=large['joining_gap'].dt.days\n",
    "large['joining_gap']=large['joining_gap']**2\n",
    "\n",
    "\n",
    "large['PG_score']=large['Performance_PG']/large['PG_scale']\n",
    "large['UG_score']=large['Performance_UG']/large['UG_Scale']"
   ]
  },
  {
   "cell_type": "code",
   "execution_count": 203,
   "metadata": {
    "collapsed": false
   },
   "outputs": [],
   "source": [
    "def edu(data):\n",
    "    if data['PG_score'] ==0:\n",
    "        return 0\n",
    "    else:\n",
    "        return 1\n",
    "\n",
    "large['Edu_level']= large.apply(edu, axis=1)\n"
   ]
  },
  {
   "cell_type": "code",
   "execution_count": 204,
   "metadata": {
    "collapsed": false
   },
   "outputs": [],
   "source": [
    "large['Stipend']=large[['Stipend1','Stipend2']].max(axis=1)\n",
    "\n",
    "def stipend(data):\n",
    "    if data['Stipend'] ==0:\n",
    "        return 'No Stipend'\n",
    "    elif data['Stipend'] <=5000:\n",
    "        return '0-5K' \n",
    "    elif data['Stipend'] <=10000:\n",
    "        return '5-10K'\n",
    "    else:\n",
    "        return '10k+'\n",
    "\n",
    "large['Stipend_gi'] = large.apply(stipend, axis=1)"
   ]
  },
  {
   "cell_type": "code",
   "execution_count": 205,
   "metadata": {
    "collapsed": false
   },
   "outputs": [
    {
     "data": {
      "text/plain": [
       "Index(['Internship_ID', 'Student_ID', 'Earliest_Start_Date', 'Expected_Stipend', 'Minimum_Duration', 'Preferred_location', 'Is_Part_Time', 'Is_Shortlisted', 'Student Domain', 'Skill Domain', 'Institute_Category', 'Institute_location', 'hometown', 'Degree', 'Stream', 'Current_year', 'Year_of_graduation', 'Performance_PG', 'PG_scale', 'Performance_UG', 'UG_Scale', 'Performance_12th', 'Performance_10th', 'Experience_Type', 'Exp_type_0', 'Exp_type_1', 'Exp_type_2', 'Exp_type_3', 'Exp_type_4', 'Location_all', 'Internship_Profile', 'Skills_required', 'Internship_Type', 'Internship_Location', 'Internship_category', 'No_of_openings', 'Stipend_Type', 'Stipend1', 'Stipend2', 'Internship_deadline', 'Start_Date', 'Internship_Duration(Months)', 'NoofApp', 'joining_gap', 'PG_score', 'UG_score', 'Edu_level', 'Stipend', 'Stipend_gi'], dtype='object')"
      ]
     },
     "execution_count": 205,
     "metadata": {},
     "output_type": "execute_result"
    }
   ],
   "source": [
    "large.columns"
   ]
  },
  {
   "cell_type": "code",
   "execution_count": 206,
   "metadata": {
    "collapsed": true
   },
   "outputs": [],
   "source": [
    "for_dummy=['Expected_Stipend','Institute_Category','Current_year', 'Internship_Type','Internship_category',\n",
    "           'Stipend_Type','Stipend_gi','Student Domain', 'Skill Domain']\n",
    "for i in for_dummy:\n",
    "    new=pd.get_dummies(large[i],prefix=i, prefix_sep='_')\n",
    "    large=pd.concat((large,new),axis=1)\n"
   ]
  },
  {
   "cell_type": "code",
   "execution_count": 207,
   "metadata": {
    "collapsed": false
   },
   "outputs": [],
   "source": [
    "def loc(large):\n",
    "    if large['Preferred_location'] in large['Location_all']:\n",
    "        return 1\n",
    "    else:\n",
    "        return 0\n",
    "\n",
    "large['Pref_location_Ok'] = large.apply(loc, axis=1)\n",
    "\n",
    "def loc2(large):\n",
    "    if large['Internship_Location'] in large['Location_all']:\n",
    "        return 1\n",
    "    else:\n",
    "        return 0\n",
    "\n",
    "large['Intern_location_Ok'] = large.apply(loc2, axis=1)\n",
    "\n",
    "large['location_combine']=large[['Intern_location_Ok','Pref_location_Ok']].max(axis=1)"
   ]
  },
  {
   "cell_type": "code",
   "execution_count": 208,
   "metadata": {
    "collapsed": false
   },
   "outputs": [],
   "source": [
    "columnstouse=['Internship_ID', 'Student_ID', 'Minimum_Duration', \n",
    "               'Is_Part_Time', 'Is_Shortlisted',\n",
    "              'Year_of_graduation',  'Performance_12th', 'Performance_10th', \n",
    "              'Experience_Type', 'Exp_type_0','Exp_type_1', 'Exp_type_2', 'Exp_type_3', 'Exp_type_4', \n",
    "              'No_of_openings', 'Internship_Duration(Months)', 'NoofApp', 'joining_gap',\n",
    "              'PG_score', 'UG_score', \n",
    "              'Edu_level', \n",
    "              'Expected_Stipend_10K+', 'Expected_Stipend_2-5K','Expected_Stipend_5-10K', #'Expected_Stipend_No Expectations', \n",
    "              'Institute_Category_N', #'Institute_Category_Y',\n",
    "              'Current_year_1', 'Current_year_2', 'Current_year_3', 'Current_year_4', 'Current_year_5', #'Current_year_already a graduate', \n",
    "              'Internship_Type_regular', #'Internship_Type_virtual', \n",
    "              'Internship_category_Full Time', #'Internship_category_Part time',\n",
    "              'Stipend_Type_fixed', 'Stipend_Type_performance', 'Stipend_Type_unpaid',# 'Stipend_Type_variable',\n",
    "              'Stipend_gi_0-5K', 'Stipend_gi_10k+',# 'Stipend_gi_5-10K', \n",
    "              'Student Domain_Finance', 'Student Domain_Management', 'Student Domain_Non-Technical', 'Student Domain_Other',\n",
    "             # 'Student Domain_Technical', \n",
    "              'Skill Domain_Finance','Skill Domain_Management', 'Skill Domain_Non-Technical', 'Skill Domain_Other', \n",
    "              #'Skill Domain_Technical', \n",
    "              'Pref_location_Ok', 'Intern_location_Ok', \n",
    "              'location_combine']"
   ]
  },
  {
   "cell_type": "code",
   "execution_count": 209,
   "metadata": {
    "collapsed": false,
    "scrolled": true
   },
   "outputs": [],
   "source": [
    "large=large[columnstouse]"
   ]
  },
  {
   "cell_type": "code",
   "execution_count": 210,
   "metadata": {
    "collapsed": false
   },
   "outputs": [
    {
     "data": {
      "text/plain": [
       "(192582, 48)"
      ]
     },
     "execution_count": 210,
     "metadata": {},
     "output_type": "execute_result"
    }
   ],
   "source": [
    "large.shape"
   ]
  },
  {
   "cell_type": "code",
   "execution_count": 211,
   "metadata": {
    "collapsed": false
   },
   "outputs": [
    {
     "data": {
      "text/plain": [
       "((24579, 48), (168003, 48))"
      ]
     },
     "execution_count": 211,
     "metadata": {},
     "output_type": "execute_result"
    }
   ],
   "source": [
    "shortlisted=large[large['Is_Shortlisted']==1]\n",
    "sorry=large[large['Is_Shortlisted']==0]\n",
    "shortlisted.shape,sorry.shape"
   ]
  },
  {
   "cell_type": "code",
   "execution_count": 212,
   "metadata": {
    "collapsed": false
   },
   "outputs": [],
   "source": [
    "rows=random.sample(sorry.index.tolist(),70000)\n",
    "sorry=sorry.ix[rows]"
   ]
  },
  {
   "cell_type": "code",
   "execution_count": 213,
   "metadata": {
    "collapsed": true
   },
   "outputs": [],
   "source": [
    "large_short=pd.concat([shortlisted,sorry])"
   ]
  },
  {
   "cell_type": "code",
   "execution_count": 214,
   "metadata": {
    "collapsed": false
   },
   "outputs": [
    {
     "data": {
      "text/plain": [
       "(94579, 48)"
      ]
     },
     "execution_count": 214,
     "metadata": {},
     "output_type": "execute_result"
    }
   ],
   "source": [
    "large_short.shape"
   ]
  },
  {
   "cell_type": "code",
   "execution_count": null,
   "metadata": {
    "collapsed": false
   },
   "outputs": [],
   "source": []
  },
  {
   "cell_type": "code",
   "execution_count": 240,
   "metadata": {
    "collapsed": true
   },
   "outputs": [],
   "source": [
    "X=[ 'Minimum_Duration', \n",
    "               'Is_Part_Time',\n",
    "              'Year_of_graduation',  'Performance_12th', 'Performance_10th', \n",
    "              'Experience_Type', 'Exp_type_0','Exp_type_1', 'Exp_type_2', 'Exp_type_3', 'Exp_type_4', \n",
    "              'No_of_openings', 'Internship_Duration(Months)', 'NoofApp', 'joining_gap',\n",
    "              'PG_score', 'UG_score', \n",
    "              'Edu_level', \n",
    "              'Expected_Stipend_10K+', 'Expected_Stipend_2-5K','Expected_Stipend_5-10K', #'Expected_Stipend_No Expectations', \n",
    "              'Institute_Category_N', #'Institute_Category_Y',\n",
    "              'Current_year_1', 'Current_year_2', 'Current_year_3', 'Current_year_4', 'Current_year_5', #'Current_year_already a graduate', \n",
    "              'Internship_Type_regular', #'Internship_Type_virtual', \n",
    "              'Internship_category_Full Time', #'Internship_category_Part time',\n",
    "              'Stipend_Type_fixed', 'Stipend_Type_performance', 'Stipend_Type_unpaid',# 'Stipend_Type_variable',\n",
    "              'Stipend_gi_0-5K', 'Stipend_gi_10k+',# 'Stipend_gi_5-10K', \n",
    "              'Student Domain_Finance', 'Student Domain_Management', 'Student Domain_Non-Technical', 'Student Domain_Other',\n",
    "             # 'Student Domain_Technical', \n",
    "              'Skill Domain_Finance','Skill Domain_Management', 'Skill Domain_Non-Technical', 'Skill Domain_Other', \n",
    "              #'Skill Domain_Technical', \n",
    "              'Pref_location_Ok', 'Intern_location_Ok', \n",
    "              'location_combine']\n",
    "Y=['Is_Shortlisted']\n",
    "\n",
    "X=['NoofApp',\n",
    " 'Performance_12th',\n",
    " 'Performance_10th',\n",
    " 'joining_gap',\n",
    " 'UG_score',\n",
    " 'No_of_openings',\n",
    " 'Internship_Duration(Months)',\n",
    " 'Minimum_Duration',\n",
    " 'Year_of_graduation',\n",
    " 'Experience_Type',\n",
    " 'PG_score',\n",
    " 'Stipend_Type_fixed',\n",
    " 'Internship_Type_regular',\n",
    " 'Internship_category_Full Time',\n",
    " 'Stipend_gi_0-5K',\n",
    " 'Skill Domain_Other',\n",
    " 'Stipend_gi_10k+',\n",
    " 'Expected_Stipend_5-10K',\n",
    " 'Is_Part_Time',\n",
    " 'Exp_type_1',\n",
    " 'Current_year_3',\n",
    " 'Expected_Stipend_2-5K',\n",
    " 'Skill Domain_Non-Technical',\n",
    " 'Exp_type_2',\n",
    " 'Expected_Stipend_10K+',\n",
    " 'Current_year_2',\n",
    " 'Exp_type_0']"
   ]
  },
  {
   "cell_type": "code",
   "execution_count": 241,
   "metadata": {
    "collapsed": true
   },
   "outputs": [],
   "source": [
    "from sklearn.cross_validation import train_test_split\n",
    "import sklearn.metrics as metrics \n",
    "import sklearn.ensemble as ensemble\n",
    "import sklearn.linear_model as lm"
   ]
  },
  {
   "cell_type": "code",
   "execution_count": 249,
   "metadata": {
    "collapsed": false
   },
   "outputs": [
    {
     "name": "stdout",
     "output_type": "stream",
     "text": [
      "******************************************************************************************\n",
      "Train X:  (62422, 27) Test X:  (32157, 27) Train Y:  (62422, 1) Test Y:  (32157, 1)\n",
      "******************************************************************************************\n"
     ]
    }
   ],
   "source": [
    "X_train, X_test, y_train, y_test = train_test_split(large_short[X], large_short[Y], test_size=0.34, random_state=42)\n",
    "\n",
    "print('*'*90)\n",
    "print('Train X: ',X_train.shape,'Test X: ', X_test.shape,'Train Y: ', y_train.shape,'Test Y: ', y_test.shape)\n",
    "print('*'*90)"
   ]
  },
  {
   "cell_type": "code",
   "execution_count": 250,
   "metadata": {
    "collapsed": false
   },
   "outputs": [
    {
     "name": "stderr",
     "output_type": "stream",
     "text": [
      "C:\\Anaconda3\\lib\\site-packages\\IPython\\kernel\\__main__.py:2: DataConversionWarning: A column-vector y was passed when a 1d array was expected. Please change the shape of y to (n_samples,), for example using ravel().\n",
      "  from IPython.kernel.zmq import kernelapp as app\n"
     ]
    },
    {
     "data": {
      "text/plain": [
       "RandomForestClassifier(bootstrap=True, class_weight=None, criterion='gini',\n",
       "            max_depth=None, max_features='auto', max_leaf_nodes=None,\n",
       "            min_samples_leaf=1, min_samples_split=2,\n",
       "            min_weight_fraction_leaf=0.0, n_estimators=300, n_jobs=1,\n",
       "            oob_score=False, random_state=None, verbose=0,\n",
       "            warm_start=False)"
      ]
     },
     "execution_count": 250,
     "metadata": {},
     "output_type": "execute_result"
    }
   ],
   "source": [
    "Model1=ensemble.RandomForestClassifier(n_estimators=300)\n",
    "Model1.fit(X_train,y_train)"
   ]
  },
  {
   "cell_type": "code",
   "execution_count": 251,
   "metadata": {
    "collapsed": false,
    "scrolled": true
   },
   "outputs": [],
   "source": [
    "var_select=pd.DataFrame(data={'Variable':X,'Imp':Model1.feature_importances_*100}).sort('Imp',ascending=False)"
   ]
  },
  {
   "cell_type": "code",
   "execution_count": null,
   "metadata": {
    "collapsed": false
   },
   "outputs": [
    {
     "data": {
      "text/plain": [
       "['NoofApp',\n",
       " 'Performance_12th',\n",
       " 'Performance_10th',\n",
       " 'UG_score',\n",
       " 'joining_gap',\n",
       " 'No_of_openings',\n",
       " 'Internship_Duration(Months)',\n",
       " 'Minimum_Duration',\n",
       " 'Year_of_graduation',\n",
       " 'Experience_Type',\n",
       " 'PG_score',\n",
       " 'Stipend_Type_fixed',\n",
       " 'Internship_Type_regular',\n",
       " 'Stipend_gi_0-5K',\n",
       " 'Internship_category_Full Time',\n",
       " 'Skill Domain_Other',\n",
       " 'Stipend_gi_10k+',\n",
       " 'Expected_Stipend_5-10K',\n",
       " 'Current_year_3',\n",
       " 'Is_Part_Time',\n",
       " 'Exp_type_1',\n",
       " 'Expected_Stipend_2-5K',\n",
       " 'Exp_type_2',\n",
       " 'Skill Domain_Non-Technical',\n",
       " 'Current_year_2',\n",
       " 'Expected_Stipend_10K+',\n",
       " 'Exp_type_0']"
      ]
     },
     "execution_count": 252,
     "metadata": {},
     "output_type": "execute_result"
    }
   ],
   "source": [
    "var_select[var_select['Imp']>1]['Variable'].tolist()"
   ]
  },
  {
   "cell_type": "code",
   "execution_count": null,
   "metadata": {
    "collapsed": false
   },
   "outputs": [
    {
     "name": "stdout",
     "output_type": "stream",
     "text": [
      "******************************************************************************************\n",
      "Precited (array([0, 1], dtype=int64), array([29109,  3048], dtype=int64))\n",
      "******************************************************************************************\n",
      "Actual (array([0, 1], dtype=int64), array([23873,  8284], dtype=int64))\n",
      "******************************************************************************************\n",
      "Confusion matrix [[23291   582]\n",
      " [ 5818  2466]]\n",
      "******************************************************************************************\n",
      "Accuracy"
     ]
    }
   ],
   "source": [
    "prediction=Model1.predict(X_test)\n",
    "print('*'*90)\n",
    "print('Precited',np.unique(prediction,return_counts=True))\n",
    "print('*'*90)\n",
    "print('Actual',np.unique(y_test,return_counts=True))\n",
    "print('*'*90)\n",
    "print('Confusion matrix',\n",
    "      metrics.confusion_matrix(y_test,prediction))\n",
    "print('*'*90)\n",
    "\n",
    "print('Accuracy',metrics.accuracy_score(y_test,prediction))\n",
    "print('*'*90)\n",
    "\n",
    "prediction=Model1.predict_proba(X_test)\n",
    "print('AUC',metrics.auc(y_test,prediction[:,1],reorder=True))"
   ]
  },
  {
   "cell_type": "code",
   "execution_count": null,
   "metadata": {
    "collapsed": false
   },
   "outputs": [],
   "source": [
    "from scipy import interp\n",
    "mean_fpr = np.linspace(0, 1, 100)\n",
    "fpr, tpr, thresholds = metrics.roc_curve(y_test,prediction[:,1])\n",
    "mean_tpr = interp(mean_fpr, fpr, tpr)\n",
    "mean_tpr[0] = 0.0\n",
    "roc_auc = metrics.auc(fpr, tpr)\n",
    "\n",
    "\n",
    "plt.plot([0, 1], [0, 1], '--', color=(0.6, 0.6, 0.6), label='Luck')\n",
    "\n",
    "mean_tpr[-1] = 1.0\n",
    "mean_auc = metrics.auc(mean_fpr, mean_tpr)\n",
    "plt.plot(mean_fpr, mean_tpr, 'k--',\n",
    "         label='Mean ROC (area = %0.2f)' % mean_auc, lw=2)\n",
    "\n",
    "plt.xlim([-0.05, 1.05])\n",
    "plt.ylim([-0.05, 1.05])\n",
    "plt.xlabel('False Positive Rate')\n",
    "plt.ylabel('True Positive Rate')\n",
    "plt.title('Receiver operating characteristic example')\n",
    "plt.legend(loc=\"lower right\")\n",
    "plt.show()"
   ]
  },
  {
   "cell_type": "markdown",
   "metadata": {},
   "source": [
    "# test data Prep"
   ]
  },
  {
   "cell_type": "code",
   "execution_count": null,
   "metadata": {
    "collapsed": true
   },
   "outputs": [],
   "source": []
  },
  {
   "cell_type": "code",
   "execution_count": 223,
   "metadata": {
    "collapsed": false
   },
   "outputs": [
    {
     "data": {
      "text/plain": [
       "(107428, 7)"
      ]
     },
     "execution_count": 223,
     "metadata": {},
     "output_type": "execute_result"
    }
   ],
   "source": [
    "test.shape"
   ]
  },
  {
   "cell_type": "code",
   "execution_count": 224,
   "metadata": {
    "collapsed": false
   },
   "outputs": [
    {
     "data": {
      "text/plain": [
       "(107428, 9)"
      ]
     },
     "execution_count": 224,
     "metadata": {},
     "output_type": "execute_result"
    }
   ],
   "source": [
    "test=pd.merge(pd.merge(test,student_domain, how='left',on='Student_ID'),intern_domain,how='left',on='Internship_ID')\n",
    "test.shape"
   ]
  },
  {
   "cell_type": "code",
   "execution_count": 225,
   "metadata": {
    "collapsed": false
   },
   "outputs": [],
   "source": [
    "rrr=np.unique(test['Internship_ID'],return_counts=True)\n",
    "interncount1=pd.DataFrame(data={'Internship_ID':rrr[0].tolist(),'NoofApp':rrr[1].tolist()})"
   ]
  },
  {
   "cell_type": "code",
   "execution_count": 226,
   "metadata": {
    "collapsed": false
   },
   "outputs": [],
   "source": [
    "testdata=pd.merge(pd.merge(pd.merge(test,student,how='left', on='Student_ID'),internship,how='left', on='Internship_ID'),\n",
    "                  interncount1,how='left', on='Internship_ID')"
   ]
  },
  {
   "cell_type": "code",
   "execution_count": 227,
   "metadata": {
    "collapsed": false
   },
   "outputs": [
    {
     "data": {
      "text/plain": [
       "(107428, 315)"
      ]
     },
     "execution_count": 227,
     "metadata": {},
     "output_type": "execute_result"
    }
   ],
   "source": [
    "testdata.shape"
   ]
  },
  {
   "cell_type": "code",
   "execution_count": 228,
   "metadata": {
    "collapsed": false
   },
   "outputs": [],
   "source": [
    "testdata['Earliest_Start_Date']=pd.to_datetime(testdata['Earliest_Start_Date'],format=\"%d-%m-%Y\")\n",
    "testdata['Start_Date']=pd.to_datetime(testdata['Start_Date'],format=\"%d-%m-%Y\")\n",
    "\n",
    "testdata['joining_gap']=testdata['Earliest_Start_Date']-testdata['Start_Date']\n",
    "testdata['joining_gap']=testdata['joining_gap'].dt.days\n",
    "testdata['joining_gap']=testdata['joining_gap']**2\n",
    "\n",
    "\n",
    "testdata['PG_score']=testdata['Performance_PG']/testdata['PG_scale']\n",
    "testdata['UG_score']=testdata['Performance_UG']/testdata['UG_Scale']"
   ]
  },
  {
   "cell_type": "code",
   "execution_count": 229,
   "metadata": {
    "collapsed": true
   },
   "outputs": [],
   "source": [
    "testdata['Edu_level']= testdata.apply(edu, axis=1)"
   ]
  },
  {
   "cell_type": "code",
   "execution_count": 230,
   "metadata": {
    "collapsed": true
   },
   "outputs": [],
   "source": [
    "testdata['Stipend']=testdata[['Stipend1','Stipend2']].max(axis=1)\n",
    "\n",
    "testdata['Stipend_gi'] = testdata.apply(stipend, axis=1)"
   ]
  },
  {
   "cell_type": "code",
   "execution_count": 231,
   "metadata": {
    "collapsed": true
   },
   "outputs": [],
   "source": [
    "for i in for_dummy:\n",
    "    new=pd.get_dummies(testdata[i],prefix=i, prefix_sep='_')\n",
    "    testdata=pd.concat((testdata,new),axis=1)\n"
   ]
  },
  {
   "cell_type": "code",
   "execution_count": 232,
   "metadata": {
    "collapsed": true
   },
   "outputs": [],
   "source": [
    "\n",
    "testdata['Pref_location_Ok'] = testdata.apply(loc, axis=1)\n",
    "\n",
    "testdata['Intern_location_Ok'] = testdata.apply(loc2, axis=1)\n",
    "\n",
    "testdata['location_combine']=testdata[['Intern_location_Ok','Pref_location_Ok']].max(axis=1)"
   ]
  },
  {
   "cell_type": "code",
   "execution_count": null,
   "metadata": {
    "collapsed": true
   },
   "outputs": [],
   "source": [
    "testdata1=testdata[X]"
   ]
  },
  {
   "cell_type": "code",
   "execution_count": null,
   "metadata": {
    "collapsed": false
   },
   "outputs": [],
   "source": [
    "testdata1.columns"
   ]
  },
  {
   "cell_type": "code",
   "execution_count": null,
   "metadata": {
    "collapsed": false
   },
   "outputs": [],
   "source": [
    "testdata1.shape"
   ]
  },
  {
   "cell_type": "code",
   "execution_count": null,
   "metadata": {
    "collapsed": false
   },
   "outputs": [],
   "source": [
    "prediction_f=Model1.predict_proba(testdata1)"
   ]
  },
  {
   "cell_type": "code",
   "execution_count": null,
   "metadata": {
    "collapsed": false
   },
   "outputs": [],
   "source": [
    "len(prediction_f)"
   ]
  },
  {
   "cell_type": "code",
   "execution_count": null,
   "metadata": {
    "collapsed": false
   },
   "outputs": [],
   "source": [
    "submission=testdata[['Internship_ID', 'Student_ID']]\n",
    "submission['Is_Shortlisted']=prediction_f[:,1]"
   ]
  },
  {
   "cell_type": "code",
   "execution_count": null,
   "metadata": {
    "collapsed": false
   },
   "outputs": [],
   "source": [
    "submission.to_csv(path+'solution1527RF.csv',index=False)"
   ]
  },
  {
   "cell_type": "code",
   "execution_count": null,
   "metadata": {
    "collapsed": true
   },
   "outputs": [],
   "source": []
  }
 ],
 "metadata": {
  "kernelspec": {
   "display_name": "Python 3",
   "language": "python",
   "name": "python3"
  },
  "language_info": {
   "codemirror_mode": {
    "name": "ipython",
    "version": 3
   },
   "file_extension": ".py",
   "mimetype": "text/x-python",
   "name": "python",
   "nbconvert_exporter": "python",
   "pygments_lexer": "ipython3",
   "version": "3.4.3"
  }
 },
 "nbformat": 4,
 "nbformat_minor": 0
}
